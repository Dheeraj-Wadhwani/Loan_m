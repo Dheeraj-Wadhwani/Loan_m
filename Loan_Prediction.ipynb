{
 "cells": [
  {
   "cell_type": "markdown",
   "metadata": {},
   "source": [
    "# LOAN PREDICTION"
   ]
  },
  {
   "cell_type": "code",
   "execution_count": 2,
   "metadata": {},
   "outputs": [],
   "source": [
    "import numpy as np \n",
    "import pandas as pd\n",
    "import seaborn as sns\n",
    "import matplotlib.pyplot as plt\n",
    "%matplotlib inline"
   ]
  },
  {
   "cell_type": "code",
   "execution_count": 3,
   "metadata": {},
   "outputs": [],
   "source": [
    "df = pd.read_csv('..\\Downloads\\hmeq.csv')"
   ]
  },
  {
   "cell_type": "markdown",
   "metadata": {},
   "source": [
    "ANALYZING OUR DATA"
   ]
  },
  {
   "cell_type": "code",
   "execution_count": 6,
   "metadata": {},
   "outputs": [
    {
     "data": {
      "text/html": [
       "<div>\n",
       "<style scoped>\n",
       "    .dataframe tbody tr th:only-of-type {\n",
       "        vertical-align: middle;\n",
       "    }\n",
       "\n",
       "    .dataframe tbody tr th {\n",
       "        vertical-align: top;\n",
       "    }\n",
       "\n",
       "    .dataframe thead th {\n",
       "        text-align: right;\n",
       "    }\n",
       "</style>\n",
       "<table border=\"1\" class=\"dataframe\">\n",
       "  <thead>\n",
       "    <tr style=\"text-align: right;\">\n",
       "      <th></th>\n",
       "      <th>BAD</th>\n",
       "      <th>LOAN</th>\n",
       "      <th>MORTDUE</th>\n",
       "      <th>VALUE</th>\n",
       "      <th>REASON</th>\n",
       "      <th>JOB</th>\n",
       "      <th>YOJ</th>\n",
       "      <th>DEROG</th>\n",
       "      <th>DELINQ</th>\n",
       "      <th>CLAGE</th>\n",
       "      <th>NINQ</th>\n",
       "      <th>CLNO</th>\n",
       "      <th>DEBTINC</th>\n",
       "    </tr>\n",
       "  </thead>\n",
       "  <tbody>\n",
       "    <tr>\n",
       "      <td>0</td>\n",
       "      <td>1</td>\n",
       "      <td>1100</td>\n",
       "      <td>25860.0</td>\n",
       "      <td>39025.0</td>\n",
       "      <td>HomeImp</td>\n",
       "      <td>Other</td>\n",
       "      <td>10.5</td>\n",
       "      <td>0.0</td>\n",
       "      <td>0.0</td>\n",
       "      <td>94.366667</td>\n",
       "      <td>1.0</td>\n",
       "      <td>9.0</td>\n",
       "      <td>NaN</td>\n",
       "    </tr>\n",
       "    <tr>\n",
       "      <td>1</td>\n",
       "      <td>1</td>\n",
       "      <td>1300</td>\n",
       "      <td>70053.0</td>\n",
       "      <td>68400.0</td>\n",
       "      <td>HomeImp</td>\n",
       "      <td>Other</td>\n",
       "      <td>7.0</td>\n",
       "      <td>0.0</td>\n",
       "      <td>2.0</td>\n",
       "      <td>121.833333</td>\n",
       "      <td>0.0</td>\n",
       "      <td>14.0</td>\n",
       "      <td>NaN</td>\n",
       "    </tr>\n",
       "    <tr>\n",
       "      <td>2</td>\n",
       "      <td>1</td>\n",
       "      <td>1500</td>\n",
       "      <td>13500.0</td>\n",
       "      <td>16700.0</td>\n",
       "      <td>HomeImp</td>\n",
       "      <td>Other</td>\n",
       "      <td>4.0</td>\n",
       "      <td>0.0</td>\n",
       "      <td>0.0</td>\n",
       "      <td>149.466667</td>\n",
       "      <td>1.0</td>\n",
       "      <td>10.0</td>\n",
       "      <td>NaN</td>\n",
       "    </tr>\n",
       "    <tr>\n",
       "      <td>3</td>\n",
       "      <td>1</td>\n",
       "      <td>1500</td>\n",
       "      <td>NaN</td>\n",
       "      <td>NaN</td>\n",
       "      <td>NaN</td>\n",
       "      <td>NaN</td>\n",
       "      <td>NaN</td>\n",
       "      <td>NaN</td>\n",
       "      <td>NaN</td>\n",
       "      <td>NaN</td>\n",
       "      <td>NaN</td>\n",
       "      <td>NaN</td>\n",
       "      <td>NaN</td>\n",
       "    </tr>\n",
       "    <tr>\n",
       "      <td>4</td>\n",
       "      <td>0</td>\n",
       "      <td>1700</td>\n",
       "      <td>97800.0</td>\n",
       "      <td>112000.0</td>\n",
       "      <td>HomeImp</td>\n",
       "      <td>Office</td>\n",
       "      <td>3.0</td>\n",
       "      <td>0.0</td>\n",
       "      <td>0.0</td>\n",
       "      <td>93.333333</td>\n",
       "      <td>0.0</td>\n",
       "      <td>14.0</td>\n",
       "      <td>NaN</td>\n",
       "    </tr>\n",
       "    <tr>\n",
       "      <td>...</td>\n",
       "      <td>...</td>\n",
       "      <td>...</td>\n",
       "      <td>...</td>\n",
       "      <td>...</td>\n",
       "      <td>...</td>\n",
       "      <td>...</td>\n",
       "      <td>...</td>\n",
       "      <td>...</td>\n",
       "      <td>...</td>\n",
       "      <td>...</td>\n",
       "      <td>...</td>\n",
       "      <td>...</td>\n",
       "      <td>...</td>\n",
       "    </tr>\n",
       "    <tr>\n",
       "      <td>5955</td>\n",
       "      <td>0</td>\n",
       "      <td>88900</td>\n",
       "      <td>57264.0</td>\n",
       "      <td>90185.0</td>\n",
       "      <td>DebtCon</td>\n",
       "      <td>Other</td>\n",
       "      <td>16.0</td>\n",
       "      <td>0.0</td>\n",
       "      <td>0.0</td>\n",
       "      <td>221.808718</td>\n",
       "      <td>0.0</td>\n",
       "      <td>16.0</td>\n",
       "      <td>36.112347</td>\n",
       "    </tr>\n",
       "    <tr>\n",
       "      <td>5956</td>\n",
       "      <td>0</td>\n",
       "      <td>89000</td>\n",
       "      <td>54576.0</td>\n",
       "      <td>92937.0</td>\n",
       "      <td>DebtCon</td>\n",
       "      <td>Other</td>\n",
       "      <td>16.0</td>\n",
       "      <td>0.0</td>\n",
       "      <td>0.0</td>\n",
       "      <td>208.692070</td>\n",
       "      <td>0.0</td>\n",
       "      <td>15.0</td>\n",
       "      <td>35.859971</td>\n",
       "    </tr>\n",
       "    <tr>\n",
       "      <td>5957</td>\n",
       "      <td>0</td>\n",
       "      <td>89200</td>\n",
       "      <td>54045.0</td>\n",
       "      <td>92924.0</td>\n",
       "      <td>DebtCon</td>\n",
       "      <td>Other</td>\n",
       "      <td>15.0</td>\n",
       "      <td>0.0</td>\n",
       "      <td>0.0</td>\n",
       "      <td>212.279697</td>\n",
       "      <td>0.0</td>\n",
       "      <td>15.0</td>\n",
       "      <td>35.556590</td>\n",
       "    </tr>\n",
       "    <tr>\n",
       "      <td>5958</td>\n",
       "      <td>0</td>\n",
       "      <td>89800</td>\n",
       "      <td>50370.0</td>\n",
       "      <td>91861.0</td>\n",
       "      <td>DebtCon</td>\n",
       "      <td>Other</td>\n",
       "      <td>14.0</td>\n",
       "      <td>0.0</td>\n",
       "      <td>0.0</td>\n",
       "      <td>213.892709</td>\n",
       "      <td>0.0</td>\n",
       "      <td>16.0</td>\n",
       "      <td>34.340882</td>\n",
       "    </tr>\n",
       "    <tr>\n",
       "      <td>5959</td>\n",
       "      <td>0</td>\n",
       "      <td>89900</td>\n",
       "      <td>48811.0</td>\n",
       "      <td>88934.0</td>\n",
       "      <td>DebtCon</td>\n",
       "      <td>Other</td>\n",
       "      <td>15.0</td>\n",
       "      <td>0.0</td>\n",
       "      <td>0.0</td>\n",
       "      <td>219.601002</td>\n",
       "      <td>0.0</td>\n",
       "      <td>16.0</td>\n",
       "      <td>34.571519</td>\n",
       "    </tr>\n",
       "  </tbody>\n",
       "</table>\n",
       "<p>5960 rows × 13 columns</p>\n",
       "</div>"
      ],
      "text/plain": [
       "      BAD   LOAN  MORTDUE     VALUE   REASON     JOB   YOJ  DEROG  DELINQ  \\\n",
       "0       1   1100  25860.0   39025.0  HomeImp   Other  10.5    0.0     0.0   \n",
       "1       1   1300  70053.0   68400.0  HomeImp   Other   7.0    0.0     2.0   \n",
       "2       1   1500  13500.0   16700.0  HomeImp   Other   4.0    0.0     0.0   \n",
       "3       1   1500      NaN       NaN      NaN     NaN   NaN    NaN     NaN   \n",
       "4       0   1700  97800.0  112000.0  HomeImp  Office   3.0    0.0     0.0   \n",
       "...   ...    ...      ...       ...      ...     ...   ...    ...     ...   \n",
       "5955    0  88900  57264.0   90185.0  DebtCon   Other  16.0    0.0     0.0   \n",
       "5956    0  89000  54576.0   92937.0  DebtCon   Other  16.0    0.0     0.0   \n",
       "5957    0  89200  54045.0   92924.0  DebtCon   Other  15.0    0.0     0.0   \n",
       "5958    0  89800  50370.0   91861.0  DebtCon   Other  14.0    0.0     0.0   \n",
       "5959    0  89900  48811.0   88934.0  DebtCon   Other  15.0    0.0     0.0   \n",
       "\n",
       "           CLAGE  NINQ  CLNO    DEBTINC  \n",
       "0      94.366667   1.0   9.0        NaN  \n",
       "1     121.833333   0.0  14.0        NaN  \n",
       "2     149.466667   1.0  10.0        NaN  \n",
       "3            NaN   NaN   NaN        NaN  \n",
       "4      93.333333   0.0  14.0        NaN  \n",
       "...          ...   ...   ...        ...  \n",
       "5955  221.808718   0.0  16.0  36.112347  \n",
       "5956  208.692070   0.0  15.0  35.859971  \n",
       "5957  212.279697   0.0  15.0  35.556590  \n",
       "5958  213.892709   0.0  16.0  34.340882  \n",
       "5959  219.601002   0.0  16.0  34.571519  \n",
       "\n",
       "[5960 rows x 13 columns]"
      ]
     },
     "execution_count": 6,
     "metadata": {},
     "output_type": "execute_result"
    }
   ],
   "source": [
    "df"
   ]
  },
  {
   "cell_type": "code",
   "execution_count": 7,
   "metadata": {},
   "outputs": [
    {
     "name": "stdout",
     "output_type": "stream",
     "text": [
      "<class 'pandas.core.frame.DataFrame'>\n",
      "RangeIndex: 5960 entries, 0 to 5959\n",
      "Data columns (total 13 columns):\n",
      "BAD        5960 non-null int64\n",
      "LOAN       5960 non-null int64\n",
      "MORTDUE    5442 non-null float64\n",
      "VALUE      5848 non-null float64\n",
      "REASON     5708 non-null object\n",
      "JOB        5681 non-null object\n",
      "YOJ        5445 non-null float64\n",
      "DEROG      5252 non-null float64\n",
      "DELINQ     5380 non-null float64\n",
      "CLAGE      5652 non-null float64\n",
      "NINQ       5450 non-null float64\n",
      "CLNO       5738 non-null float64\n",
      "DEBTINC    4693 non-null float64\n",
      "dtypes: float64(9), int64(2), object(2)\n",
      "memory usage: 605.4+ KB\n",
      "----------------------------------------\n"
     ]
    },
    {
     "data": {
      "text/html": [
       "<div>\n",
       "<style scoped>\n",
       "    .dataframe tbody tr th:only-of-type {\n",
       "        vertical-align: middle;\n",
       "    }\n",
       "\n",
       "    .dataframe tbody tr th {\n",
       "        vertical-align: top;\n",
       "    }\n",
       "\n",
       "    .dataframe thead th {\n",
       "        text-align: right;\n",
       "    }\n",
       "</style>\n",
       "<table border=\"1\" class=\"dataframe\">\n",
       "  <thead>\n",
       "    <tr style=\"text-align: right;\">\n",
       "      <th></th>\n",
       "      <th>BAD</th>\n",
       "      <th>LOAN</th>\n",
       "      <th>MORTDUE</th>\n",
       "      <th>VALUE</th>\n",
       "      <th>YOJ</th>\n",
       "      <th>DEROG</th>\n",
       "      <th>DELINQ</th>\n",
       "      <th>CLAGE</th>\n",
       "      <th>NINQ</th>\n",
       "      <th>CLNO</th>\n",
       "      <th>DEBTINC</th>\n",
       "    </tr>\n",
       "  </thead>\n",
       "  <tbody>\n",
       "    <tr>\n",
       "      <td>count</td>\n",
       "      <td>5960.000000</td>\n",
       "      <td>5960.000000</td>\n",
       "      <td>5442.000000</td>\n",
       "      <td>5848.000000</td>\n",
       "      <td>5445.000000</td>\n",
       "      <td>5252.000000</td>\n",
       "      <td>5380.000000</td>\n",
       "      <td>5652.000000</td>\n",
       "      <td>5450.000000</td>\n",
       "      <td>5738.000000</td>\n",
       "      <td>4693.000000</td>\n",
       "    </tr>\n",
       "    <tr>\n",
       "      <td>mean</td>\n",
       "      <td>0.199497</td>\n",
       "      <td>18607.969799</td>\n",
       "      <td>73760.817200</td>\n",
       "      <td>101776.048741</td>\n",
       "      <td>8.922268</td>\n",
       "      <td>0.254570</td>\n",
       "      <td>0.449442</td>\n",
       "      <td>179.766275</td>\n",
       "      <td>1.186055</td>\n",
       "      <td>21.296096</td>\n",
       "      <td>33.779915</td>\n",
       "    </tr>\n",
       "    <tr>\n",
       "      <td>std</td>\n",
       "      <td>0.399656</td>\n",
       "      <td>11207.480417</td>\n",
       "      <td>44457.609458</td>\n",
       "      <td>57385.775334</td>\n",
       "      <td>7.573982</td>\n",
       "      <td>0.846047</td>\n",
       "      <td>1.127266</td>\n",
       "      <td>85.810092</td>\n",
       "      <td>1.728675</td>\n",
       "      <td>10.138933</td>\n",
       "      <td>8.601746</td>\n",
       "    </tr>\n",
       "    <tr>\n",
       "      <td>min</td>\n",
       "      <td>0.000000</td>\n",
       "      <td>1100.000000</td>\n",
       "      <td>2063.000000</td>\n",
       "      <td>8000.000000</td>\n",
       "      <td>0.000000</td>\n",
       "      <td>0.000000</td>\n",
       "      <td>0.000000</td>\n",
       "      <td>0.000000</td>\n",
       "      <td>0.000000</td>\n",
       "      <td>0.000000</td>\n",
       "      <td>0.524499</td>\n",
       "    </tr>\n",
       "    <tr>\n",
       "      <td>25%</td>\n",
       "      <td>0.000000</td>\n",
       "      <td>11100.000000</td>\n",
       "      <td>46276.000000</td>\n",
       "      <td>66075.500000</td>\n",
       "      <td>3.000000</td>\n",
       "      <td>0.000000</td>\n",
       "      <td>0.000000</td>\n",
       "      <td>115.116702</td>\n",
       "      <td>0.000000</td>\n",
       "      <td>15.000000</td>\n",
       "      <td>29.140031</td>\n",
       "    </tr>\n",
       "    <tr>\n",
       "      <td>50%</td>\n",
       "      <td>0.000000</td>\n",
       "      <td>16300.000000</td>\n",
       "      <td>65019.000000</td>\n",
       "      <td>89235.500000</td>\n",
       "      <td>7.000000</td>\n",
       "      <td>0.000000</td>\n",
       "      <td>0.000000</td>\n",
       "      <td>173.466667</td>\n",
       "      <td>1.000000</td>\n",
       "      <td>20.000000</td>\n",
       "      <td>34.818262</td>\n",
       "    </tr>\n",
       "    <tr>\n",
       "      <td>75%</td>\n",
       "      <td>0.000000</td>\n",
       "      <td>23300.000000</td>\n",
       "      <td>91488.000000</td>\n",
       "      <td>119824.250000</td>\n",
       "      <td>13.000000</td>\n",
       "      <td>0.000000</td>\n",
       "      <td>0.000000</td>\n",
       "      <td>231.562278</td>\n",
       "      <td>2.000000</td>\n",
       "      <td>26.000000</td>\n",
       "      <td>39.003141</td>\n",
       "    </tr>\n",
       "    <tr>\n",
       "      <td>max</td>\n",
       "      <td>1.000000</td>\n",
       "      <td>89900.000000</td>\n",
       "      <td>399550.000000</td>\n",
       "      <td>855909.000000</td>\n",
       "      <td>41.000000</td>\n",
       "      <td>10.000000</td>\n",
       "      <td>15.000000</td>\n",
       "      <td>1168.233561</td>\n",
       "      <td>17.000000</td>\n",
       "      <td>71.000000</td>\n",
       "      <td>203.312149</td>\n",
       "    </tr>\n",
       "  </tbody>\n",
       "</table>\n",
       "</div>"
      ],
      "text/plain": [
       "               BAD          LOAN        MORTDUE          VALUE          YOJ  \\\n",
       "count  5960.000000   5960.000000    5442.000000    5848.000000  5445.000000   \n",
       "mean      0.199497  18607.969799   73760.817200  101776.048741     8.922268   \n",
       "std       0.399656  11207.480417   44457.609458   57385.775334     7.573982   \n",
       "min       0.000000   1100.000000    2063.000000    8000.000000     0.000000   \n",
       "25%       0.000000  11100.000000   46276.000000   66075.500000     3.000000   \n",
       "50%       0.000000  16300.000000   65019.000000   89235.500000     7.000000   \n",
       "75%       0.000000  23300.000000   91488.000000  119824.250000    13.000000   \n",
       "max       1.000000  89900.000000  399550.000000  855909.000000    41.000000   \n",
       "\n",
       "             DEROG       DELINQ        CLAGE         NINQ         CLNO  \\\n",
       "count  5252.000000  5380.000000  5652.000000  5450.000000  5738.000000   \n",
       "mean      0.254570     0.449442   179.766275     1.186055    21.296096   \n",
       "std       0.846047     1.127266    85.810092     1.728675    10.138933   \n",
       "min       0.000000     0.000000     0.000000     0.000000     0.000000   \n",
       "25%       0.000000     0.000000   115.116702     0.000000    15.000000   \n",
       "50%       0.000000     0.000000   173.466667     1.000000    20.000000   \n",
       "75%       0.000000     0.000000   231.562278     2.000000    26.000000   \n",
       "max      10.000000    15.000000  1168.233561    17.000000    71.000000   \n",
       "\n",
       "           DEBTINC  \n",
       "count  4693.000000  \n",
       "mean     33.779915  \n",
       "std       8.601746  \n",
       "min       0.524499  \n",
       "25%      29.140031  \n",
       "50%      34.818262  \n",
       "75%      39.003141  \n",
       "max     203.312149  "
      ]
     },
     "execution_count": 7,
     "metadata": {},
     "output_type": "execute_result"
    }
   ],
   "source": [
    "df.info()\n",
    "print('-'*40)\n",
    "df.describe()"
   ]
  },
  {
   "cell_type": "code",
   "execution_count": 8,
   "metadata": {
    "scrolled": true
   },
   "outputs": [
    {
     "data": {
      "text/plain": [
       "BAD           0\n",
       "LOAN          0\n",
       "MORTDUE     518\n",
       "VALUE       112\n",
       "REASON      252\n",
       "JOB         279\n",
       "YOJ         515\n",
       "DEROG       708\n",
       "DELINQ      580\n",
       "CLAGE       308\n",
       "NINQ        510\n",
       "CLNO        222\n",
       "DEBTINC    1267\n",
       "dtype: int64"
      ]
     },
     "execution_count": 8,
     "metadata": {},
     "output_type": "execute_result"
    }
   ],
   "source": [
    "df.isnull().sum()"
   ]
  },
  {
   "cell_type": "markdown",
   "metadata": {},
   "source": [
    "  "
   ]
  },
  {
   "cell_type": "markdown",
   "metadata": {},
   "source": [
    "CONVERTING CATEGORICAL FEATURE TO  NUMERIC"
   ]
  },
  {
   "cell_type": "code",
   "execution_count": 9,
   "metadata": {},
   "outputs": [
    {
     "data": {
      "text/plain": [
       "Other      2388\n",
       "ProfExe    1276\n",
       "Office      948\n",
       "Mgr         767\n",
       "Self        193\n",
       "Sales       109\n",
       "Name: JOB, dtype: int64"
      ]
     },
     "execution_count": 9,
     "metadata": {},
     "output_type": "execute_result"
    }
   ],
   "source": [
    "df['JOB'].value_counts()"
   ]
  },
  {
   "cell_type": "code",
   "execution_count": 10,
   "metadata": {},
   "outputs": [
    {
     "data": {
      "text/plain": [
       "DebtCon    3928\n",
       "HomeImp    1780\n",
       "Name: REASON, dtype: int64"
      ]
     },
     "execution_count": 10,
     "metadata": {},
     "output_type": "execute_result"
    }
   ],
   "source": [
    "df['REASON'].value_counts()"
   ]
  },
  {
   "cell_type": "code",
   "execution_count": 11,
   "metadata": {},
   "outputs": [],
   "source": [
    "df['REASON'] = df['REASON'].dropna().map({'DebtCon':0, 'HomeImp':1})\n",
    "df['JOB'] = df['JOB'].dropna().map({'Other':0, 'ProfExe':1, 'Office':2, 'Mgr':3, 'Self':4, 'Sales':5})"
   ]
  },
  {
   "cell_type": "code",
   "execution_count": 12,
   "metadata": {
    "scrolled": true
   },
   "outputs": [
    {
     "data": {
      "text/html": [
       "<div>\n",
       "<style scoped>\n",
       "    .dataframe tbody tr th:only-of-type {\n",
       "        vertical-align: middle;\n",
       "    }\n",
       "\n",
       "    .dataframe tbody tr th {\n",
       "        vertical-align: top;\n",
       "    }\n",
       "\n",
       "    .dataframe thead th {\n",
       "        text-align: right;\n",
       "    }\n",
       "</style>\n",
       "<table border=\"1\" class=\"dataframe\">\n",
       "  <thead>\n",
       "    <tr style=\"text-align: right;\">\n",
       "      <th></th>\n",
       "      <th>BAD</th>\n",
       "      <th>LOAN</th>\n",
       "      <th>MORTDUE</th>\n",
       "      <th>VALUE</th>\n",
       "      <th>REASON</th>\n",
       "      <th>JOB</th>\n",
       "      <th>YOJ</th>\n",
       "      <th>DEROG</th>\n",
       "      <th>DELINQ</th>\n",
       "      <th>CLAGE</th>\n",
       "      <th>NINQ</th>\n",
       "      <th>CLNO</th>\n",
       "      <th>DEBTINC</th>\n",
       "    </tr>\n",
       "  </thead>\n",
       "  <tbody>\n",
       "    <tr>\n",
       "      <td>0</td>\n",
       "      <td>1</td>\n",
       "      <td>1100</td>\n",
       "      <td>25860.0</td>\n",
       "      <td>39025.0</td>\n",
       "      <td>1.0</td>\n",
       "      <td>0.0</td>\n",
       "      <td>10.5</td>\n",
       "      <td>0.0</td>\n",
       "      <td>0.0</td>\n",
       "      <td>94.366667</td>\n",
       "      <td>1.0</td>\n",
       "      <td>9.0</td>\n",
       "      <td>NaN</td>\n",
       "    </tr>\n",
       "    <tr>\n",
       "      <td>1</td>\n",
       "      <td>1</td>\n",
       "      <td>1300</td>\n",
       "      <td>70053.0</td>\n",
       "      <td>68400.0</td>\n",
       "      <td>1.0</td>\n",
       "      <td>0.0</td>\n",
       "      <td>7.0</td>\n",
       "      <td>0.0</td>\n",
       "      <td>2.0</td>\n",
       "      <td>121.833333</td>\n",
       "      <td>0.0</td>\n",
       "      <td>14.0</td>\n",
       "      <td>NaN</td>\n",
       "    </tr>\n",
       "    <tr>\n",
       "      <td>2</td>\n",
       "      <td>1</td>\n",
       "      <td>1500</td>\n",
       "      <td>13500.0</td>\n",
       "      <td>16700.0</td>\n",
       "      <td>1.0</td>\n",
       "      <td>0.0</td>\n",
       "      <td>4.0</td>\n",
       "      <td>0.0</td>\n",
       "      <td>0.0</td>\n",
       "      <td>149.466667</td>\n",
       "      <td>1.0</td>\n",
       "      <td>10.0</td>\n",
       "      <td>NaN</td>\n",
       "    </tr>\n",
       "    <tr>\n",
       "      <td>3</td>\n",
       "      <td>1</td>\n",
       "      <td>1500</td>\n",
       "      <td>NaN</td>\n",
       "      <td>NaN</td>\n",
       "      <td>NaN</td>\n",
       "      <td>NaN</td>\n",
       "      <td>NaN</td>\n",
       "      <td>NaN</td>\n",
       "      <td>NaN</td>\n",
       "      <td>NaN</td>\n",
       "      <td>NaN</td>\n",
       "      <td>NaN</td>\n",
       "      <td>NaN</td>\n",
       "    </tr>\n",
       "    <tr>\n",
       "      <td>4</td>\n",
       "      <td>0</td>\n",
       "      <td>1700</td>\n",
       "      <td>97800.0</td>\n",
       "      <td>112000.0</td>\n",
       "      <td>1.0</td>\n",
       "      <td>2.0</td>\n",
       "      <td>3.0</td>\n",
       "      <td>0.0</td>\n",
       "      <td>0.0</td>\n",
       "      <td>93.333333</td>\n",
       "      <td>0.0</td>\n",
       "      <td>14.0</td>\n",
       "      <td>NaN</td>\n",
       "    </tr>\n",
       "  </tbody>\n",
       "</table>\n",
       "</div>"
      ],
      "text/plain": [
       "   BAD  LOAN  MORTDUE     VALUE  REASON  JOB   YOJ  DEROG  DELINQ       CLAGE  \\\n",
       "0    1  1100  25860.0   39025.0     1.0  0.0  10.5    0.0     0.0   94.366667   \n",
       "1    1  1300  70053.0   68400.0     1.0  0.0   7.0    0.0     2.0  121.833333   \n",
       "2    1  1500  13500.0   16700.0     1.0  0.0   4.0    0.0     0.0  149.466667   \n",
       "3    1  1500      NaN       NaN     NaN  NaN   NaN    NaN     NaN         NaN   \n",
       "4    0  1700  97800.0  112000.0     1.0  2.0   3.0    0.0     0.0   93.333333   \n",
       "\n",
       "   NINQ  CLNO  DEBTINC  \n",
       "0   1.0   9.0      NaN  \n",
       "1   0.0  14.0      NaN  \n",
       "2   1.0  10.0      NaN  \n",
       "3   NaN   NaN      NaN  \n",
       "4   0.0  14.0      NaN  "
      ]
     },
     "execution_count": 12,
     "metadata": {},
     "output_type": "execute_result"
    }
   ],
   "source": [
    "df.head()"
   ]
  },
  {
   "cell_type": "markdown",
   "metadata": {},
   "source": [
    "  "
   ]
  },
  {
   "cell_type": "markdown",
   "metadata": {},
   "source": [
    "ANALYZE BY VISUALIZING DATA"
   ]
  },
  {
   "cell_type": "code",
   "execution_count": 13,
   "metadata": {},
   "outputs": [
    {
     "data": {
      "text/plain": [
       "<matplotlib.axes._subplots.AxesSubplot at 0x2c3f24c0d08>"
      ]
     },
     "execution_count": 13,
     "metadata": {},
     "output_type": "execute_result"
    },
    {
     "data": {
      "image/png": "[encoded data removed]",
      "text/plain": [
       "<Figure size 720x720 with 2 Axes>"
      ]
     },
     "metadata": {
      "needs_background": "light"
     },
     "output_type": "display_data"
    }
   ],
   "source": [
    "plt.figure(figsize=(10,10))\n",
    "sns.heatmap(df.corr().dropna(), annot=True, cmap='coolwarm')"
   ]
  },
  {
   "cell_type": "markdown",
   "metadata": {},
   "source": [
    " "
   ]
  },
  {
   "cell_type": "markdown",
   "metadata": {},
   "source": [
    "FILLING MISSING DATA"
   ]
  },
  {
   "cell_type": "markdown",
   "metadata": {},
   "source": [
    "REASON-"
   ]
  },
  {
   "cell_type": "code",
   "execution_count": 14,
   "metadata": {},
   "outputs": [
    {
     "data": {
      "text/plain": [
       "<seaborn.axisgrid.FacetGrid at 0x2c3f309c988>"
      ]
     },
     "execution_count": 14,
     "metadata": {},
     "output_type": "execute_result"
    },
    {
     "data": {
      "image/png": "[encoded data removed]",
      "text/plain": [
       "<Figure size 432x216 with 2 Axes>"
      ]
     },
     "metadata": {
      "needs_background": "light"
     },
     "output_type": "display_data"
    }
   ],
   "source": [
    "a = sns.FacetGrid(df, col='REASON')\n",
    "a.map(plt.hist, 'CLAGE', bins=20)"
   ]
  },
  {
   "cell_type": "code",
   "execution_count": 15,
   "metadata": {},
   "outputs": [
    {
     "data": {
      "text/plain": [
       "<seaborn.axisgrid.FacetGrid at 0x2c3f309c588>"
      ]
     },
     "execution_count": 15,
     "metadata": {},
     "output_type": "execute_result"
    },
    {
     "data": {
      "image/png": "[encoded data removed]",
      "text/plain": [
       "<Figure size 432x216 with 2 Axes>"
      ]
     },
     "metadata": {
      "needs_background": "light"
     },
     "output_type": "display_data"
    }
   ],
   "source": [
    "a = sns.FacetGrid(df, col='REASON')\n",
    "a.map(plt.hist, 'YOJ', bins=20)"
   ]
  },
  {
   "cell_type": "code",
   "execution_count": 16,
   "metadata": {},
   "outputs": [
    {
     "data": {
      "text/plain": [
       "<seaborn.axisgrid.FacetGrid at 0x2c3f2edc388>"
      ]
     },
     "execution_count": 16,
     "metadata": {},
     "output_type": "execute_result"
    },
    {
     "data": {
      "image/png": "[encoded data removed]",
      "text/plain": [
       "<Figure size 432x216 with 2 Axes>"
      ]
     },
     "metadata": {
      "needs_background": "light"
     },
     "output_type": "display_data"
    }
   ],
   "source": [
    "a = sns.FacetGrid(df, col='REASON')\n",
    "a.map(plt.scatter, 'YOJ', 'CLAGE')"
   ]
  },
  {
   "cell_type": "code",
   "execution_count": 17,
   "metadata": {},
   "outputs": [],
   "source": [
    "df.loc[(df['REASON'].isnull()) & (df['YOJ']>30.0), 'REASON'] = 0\n",
    "df.loc[(df['REASON'].isnull()) & (df['YOJ']<15.0) & (df['CLAGE']<350.0), 'REASON'] = 0\n",
    "df.loc[(df['REASON'].isnull()) & (df['CLAGE']>400.0), 'REASON'] = 1\n",
    "df['REASON'].fillna('0', inplace=True)"
   ]
  },
  {
   "cell_type": "markdown",
   "metadata": {},
   "source": [
    " "
   ]
  },
  {
   "cell_type": "markdown",
   "metadata": {},
   "source": [
    "JOB-"
   ]
  },
  {
   "cell_type": "code",
   "execution_count": 18,
   "metadata": {},
   "outputs": [
    {
     "data": {
      "text/plain": [
       "<seaborn.axisgrid.FacetGrid at 0x2c3f330f788>"
      ]
     },
     "execution_count": 18,
     "metadata": {},
     "output_type": "execute_result"
    },
    {
     "data": {
      "image/png": "[encoded data removed]",
      "text/plain": [
       "<Figure size 1296x216 with 6 Axes>"
      ]
     },
     "metadata": {
      "needs_background": "light"
     },
     "output_type": "display_data"
    }
   ],
   "source": [
    "a = sns.FacetGrid(df, col='JOB')\n",
    "a.map(plt.hist, 'MORTDUE', bins=20)"
   ]
  },
  {
   "cell_type": "code",
   "execution_count": 19,
   "metadata": {},
   "outputs": [
    {
     "data": {
      "text/plain": [
       "<seaborn.axisgrid.FacetGrid at 0x2c3f377f7c8>"
      ]
     },
     "execution_count": 19,
     "metadata": {},
     "output_type": "execute_result"
    },
    {
     "data": {
      "image/png": "[encoded data removed]",
      "text/plain": [
       "<Figure size 1296x216 with 6 Axes>"
      ]
     },
     "metadata": {
      "needs_background": "light"
     },
     "output_type": "display_data"
    }
   ],
   "source": [
    "a = sns.FacetGrid(df, col='JOB')\n",
    "a.map(plt.hist, 'VALUE', bins=20)"
   ]
  },
  {
   "cell_type": "code",
   "execution_count": 20,
   "metadata": {},
   "outputs": [],
   "source": [
    "df.loc[(df['JOB'].isnull()) & (df['VALUE']<200000), 'JOB'] = 0\n",
    "df.loc[(df['JOB'].isnull()) & (df['MORTDUE']>200000.0) & (df['MORTDUE']<300000.0), 'JOB'] = 2\n",
    "df.loc[(df['JOB'].isnull()) & (df['MORTDUE']>200000.0) & (df['MORTDUE']<300000.0), 'JOB'] = 2\n",
    "df['JOB'].fillna('0', inplace=True)"
   ]
  },
  {
   "cell_type": "markdown",
   "metadata": {},
   "source": [
    " "
   ]
  },
  {
   "cell_type": "markdown",
   "metadata": {},
   "source": [
    "VALUE-"
   ]
  },
  {
   "cell_type": "code",
   "execution_count": 21,
   "metadata": {},
   "outputs": [
    {
     "data": {
      "text/plain": [
       "<matplotlib.collections.PathCollection at 0x2c3f4ea92c8>"
      ]
     },
     "execution_count": 21,
     "metadata": {},
     "output_type": "execute_result"
    },
    {
     "data": {
      "image/png": "[encoded data removed]",
      "text/plain": [
       "<Figure size 432x288 with 1 Axes>"
      ]
     },
     "metadata": {
      "needs_background": "light"
     },
     "output_type": "display_data"
    }
   ],
   "source": [
    "plt.scatter(x=df['MORTDUE'], y=df['VALUE'])"
   ]
  },
  {
   "cell_type": "code",
   "execution_count": 22,
   "metadata": {},
   "outputs": [],
   "source": [
    "df.loc[(df['VALUE'].isnull()), 'VALUE'] = df.loc[(df['VALUE'].isnull()), 'MORTDUE']*2\n",
    "df['VALUE'].fillna(df['VALUE'].mean(), inplace=True)"
   ]
  },
  {
   "cell_type": "markdown",
   "metadata": {},
   "source": [
    " "
   ]
  },
  {
   "cell_type": "markdown",
   "metadata": {},
   "source": [
    "MORTDUE-"
   ]
  },
  {
   "cell_type": "code",
   "execution_count": 23,
   "metadata": {},
   "outputs": [
    {
     "data": {
      "text/plain": [
       "<matplotlib.collections.PathCollection at 0x2c3f4f0d208>"
      ]
     },
     "execution_count": 23,
     "metadata": {},
     "output_type": "execute_result"
    },
    {
     "data": {
      "image/png": "[encoded data removed]",
      "text/plain": [
       "<Figure size 432x288 with 1 Axes>"
      ]
     },
     "metadata": {
      "needs_background": "light"
     },
     "output_type": "display_data"
    }
   ],
   "source": [
    "plt.scatter(y=df['MORTDUE'], x=df['VALUE'])"
   ]
  },
  {
   "cell_type": "code",
   "execution_count": 24,
   "metadata": {
    "scrolled": true
   },
   "outputs": [],
   "source": [
    "df.loc[(df['MORTDUE'].isnull()), 'MORTDUE'] = df.loc[(df['MORTDUE'].isnull()), 'VALUE']/2"
   ]
  },
  {
   "cell_type": "markdown",
   "metadata": {},
   "source": [
    " "
   ]
  },
  {
   "cell_type": "markdown",
   "metadata": {},
   "source": [
    "CLAGE-"
   ]
  },
  {
   "cell_type": "code",
   "execution_count": 25,
   "metadata": {},
   "outputs": [
    {
     "data": {
      "text/plain": [
       "<matplotlib.collections.PathCollection at 0x2c3f4f7dd08>"
      ]
     },
     "execution_count": 25,
     "metadata": {},
     "output_type": "execute_result"
    },
    {
     "data": {
      "image/png": "[encoded data removed]",
      "text/plain": [
       "<Figure size 432x288 with 1 Axes>"
      ]
     },
     "metadata": {
      "needs_background": "light"
     },
     "output_type": "display_data"
    }
   ],
   "source": [
    "plt.scatter(y=df['YOJ'], x=df['CLAGE'])"
   ]
  },
  {
   "cell_type": "code",
   "execution_count": 26,
   "metadata": {},
   "outputs": [],
   "source": [
    "for i in list(range(0,50,1)):\n",
    "    df.loc[(df['CLAGE'].isnull()) & (df['YOJ']==i) , 'CLAGE'] = df.loc[(df['YOJ']==i), 'YOJ'].mean()\n",
    "df['CLAGE'].fillna(df['CLAGE'].mean(), inplace=True)"
   ]
  },
  {
   "cell_type": "markdown",
   "metadata": {},
   "source": [
    " "
   ]
  },
  {
   "cell_type": "markdown",
   "metadata": {},
   "source": [
    "YOJ-"
   ]
  },
  {
   "cell_type": "code",
   "execution_count": 27,
   "metadata": {},
   "outputs": [
    {
     "name": "stderr",
     "output_type": "stream",
     "text": [
      "C:\\Users\\Dheeraj\\Anaconda3\\lib\\site-packages\\pandas\\core\\indexing.py:961: FutureWarning: \n",
      "Passing list-likes to .loc or [] with any missing label will raise\n",
      "KeyError in the future, you can use .reindex() as an alternative.\n",
      "\n",
      "See the documentation here:\n",
      "https://pandas.pydata.org/pandas-docs/stable/user_guide/indexing.html#deprecate-loc-reindex-listlike\n",
      "  return getattr(section, self.name)[new_key]\n"
     ]
    }
   ],
   "source": [
    "for dataset in df:\n",
    "    df.loc[(df['YOJ'].isnull()), 'YOJ'] = df.loc[(df['YOJ'].dropna()), 'YOJ'].mean()"
   ]
  },
  {
   "cell_type": "markdown",
   "metadata": {},
   "source": [
    " "
   ]
  },
  {
   "cell_type": "markdown",
   "metadata": {},
   "source": [
    "DELINQ AND DEROG-"
   ]
  },
  {
   "cell_type": "code",
   "execution_count": 28,
   "metadata": {},
   "outputs": [
    {
     "data": {
      "text/plain": [
       "<matplotlib.collections.PathCollection at 0x2c3f5014888>"
      ]
     },
     "execution_count": 28,
     "metadata": {},
     "output_type": "execute_result"
    },
    {
     "data": {
      "image/png": "[encoded data removed]",
      "text/plain": [
       "<Figure size 432x288 with 1 Axes>"
      ]
     },
     "metadata": {
      "needs_background": "light"
     },
     "output_type": "display_data"
    }
   ],
   "source": [
    "plt.scatter(y=df['DELINQ'], x=df['DEROG'])"
   ]
  },
  {
   "cell_type": "code",
   "execution_count": 29,
   "metadata": {},
   "outputs": [
    {
     "data": {
      "text/plain": [
       "<matplotlib.collections.PathCollection at 0x2c3f50890c8>"
      ]
     },
     "execution_count": 29,
     "metadata": {},
     "output_type": "execute_result"
    },
    {
     "data": {
      "image/png": "[encoded data removed]",
      "text/plain": [
       "<Figure size 432x288 with 1 Axes>"
      ]
     },
     "metadata": {
      "needs_background": "light"
     },
     "output_type": "display_data"
    }
   ],
   "source": [
    "plt.scatter(x=df['NINQ'], y=df['DEROG'])"
   ]
  },
  {
   "cell_type": "code",
   "execution_count": 30,
   "metadata": {},
   "outputs": [
    {
     "data": {
      "text/plain": [
       "<matplotlib.collections.PathCollection at 0x2c3f50f4148>"
      ]
     },
     "execution_count": 30,
     "metadata": {},
     "output_type": "execute_result"
    },
    {
     "data": {
      "image/png": "[encoded data removed]",
      "text/plain": [
       "<Figure size 432x288 with 1 Axes>"
      ]
     },
     "metadata": {
      "needs_background": "light"
     },
     "output_type": "display_data"
    }
   ],
   "source": [
    "plt.scatter(y=df['CLNO'], x=df['DELINQ'])"
   ]
  },
  {
   "cell_type": "code",
   "execution_count": 31,
   "metadata": {},
   "outputs": [],
   "source": [
    "for i in list(range(0,18,1)):\n",
    "    df.loc[(df['DELINQ'].isnull()) & (df['DEROG']==i) , 'DELINQ'] = df.loc[(df['DEROG']==i), 'DELINQ'].mean()\n",
    "    df.loc[(df['DEROG'].isnull()) & (df['DELINQ']==i) , 'DEROG'] = df.loc[(df['DELINQ']==i), 'DEROG'].mean()\n",
    "    df.loc[(df['DEROG'].isnull()) & (df['NINQ']==i) , 'DEROG'] = df.loc[(df['NINQ']==i), 'DEROG'].mean()\n",
    "    \n",
    "for i in range(0,80,1):\n",
    "    df.loc[(df['DELINQ'].isnull()) & (df['CLNO']==i),'DELINQ'] = df.loc[(df['DEROG']==i) & (df['CLNO']==i),'DELINQ'].mean()\n",
    "    \n",
    "df.loc[df['DEROG'].isnull(), 'DEROG'] = df.loc[df['DEROG'].dropna(), 'DEROG'].mean()\n",
    "df.loc[df['DELINQ'].isnull(), 'DELINQ'] = df.loc[df['DELINQ'].dropna(), 'DELINQ'].mean()"
   ]
  },
  {
   "cell_type": "markdown",
   "metadata": {},
   "source": [
    " "
   ]
  },
  {
   "cell_type": "markdown",
   "metadata": {},
   "source": [
    "NINQ-"
   ]
  },
  {
   "cell_type": "code",
   "execution_count": 32,
   "metadata": {},
   "outputs": [
    {
     "data": {
      "text/plain": [
       "<matplotlib.collections.PathCollection at 0x2c3f516be88>"
      ]
     },
     "execution_count": 32,
     "metadata": {},
     "output_type": "execute_result"
    },
    {
     "data": {
      "image/png": "[encoded data removed]",
      "text/plain": [
       "<Figure size 432x288 with 1 Axes>"
      ]
     },
     "metadata": {
      "needs_background": "light"
     },
     "output_type": "display_data"
    }
   ],
   "source": [
    "plt.scatter(y=df['NINQ'], x=df['DEROG'])"
   ]
  },
  {
   "cell_type": "code",
   "execution_count": 33,
   "metadata": {},
   "outputs": [
    {
     "data": {
      "text/plain": [
       "<matplotlib.collections.PathCollection at 0x2c3f51d4a88>"
      ]
     },
     "execution_count": 33,
     "metadata": {},
     "output_type": "execute_result"
    },
    {
     "data": {
      "image/png": "[encoded data removed]",
      "text/plain": [
       "<Figure size 432x288 with 1 Axes>"
      ]
     },
     "metadata": {
      "needs_background": "light"
     },
     "output_type": "display_data"
    }
   ],
   "source": [
    "plt.scatter(y=df['NINQ'], x=df['DEBTINC'])"
   ]
  },
  {
   "cell_type": "code",
   "execution_count": 34,
   "metadata": {},
   "outputs": [],
   "source": [
    "for i in range(0,10,1):\n",
    "    df.loc[(df['NINQ'].isnull()) & (df['DEROG']==i) , 'NINQ'] = df.loc[(df['DEROG']==i), 'NINQ'].mean()\n",
    "    \n",
    "for i in range(0,75,1):\n",
    "    df.loc[(df['NINQ'].isnull()) & (df['DEBTINC']==i) , 'NINQ'] = df.loc[(df['DEBTINC']==i), 'NINQ'].mean()\n",
    "    \n",
    "df['NINQ'].fillna(df['NINQ'].mean(), inplace=True)"
   ]
  },
  {
   "cell_type": "markdown",
   "metadata": {},
   "source": [
    " "
   ]
  },
  {
   "cell_type": "markdown",
   "metadata": {},
   "source": [
    "DEBTINC-"
   ]
  },
  {
   "cell_type": "code",
   "execution_count": 35,
   "metadata": {},
   "outputs": [
    {
     "data": {
      "text/plain": [
       "<matplotlib.collections.PathCollection at 0x2c3f524b048>"
      ]
     },
     "execution_count": 35,
     "metadata": {},
     "output_type": "execute_result"
    },
    {
     "data": {
      "image/png": "[encoded data removed]",
      "text/plain": [
       "<Figure size 432x288 with 1 Axes>"
      ]
     },
     "metadata": {
      "needs_background": "light"
     },
     "output_type": "display_data"
    }
   ],
   "source": [
    "plt.scatter(y=df['DEBTINC'], x=df['NINQ'])"
   ]
  },
  {
   "cell_type": "code",
   "execution_count": 36,
   "metadata": {},
   "outputs": [
    {
     "data": {
      "text/plain": [
       "<matplotlib.collections.PathCollection at 0x2c3f52a7ac8>"
      ]
     },
     "execution_count": 36,
     "metadata": {},
     "output_type": "execute_result"
    },
    {
     "data": {
      "image/png": "[encoded data removed]",
      "text/plain": [
       "<Figure size 432x288 with 1 Axes>"
      ]
     },
     "metadata": {
      "needs_background": "light"
     },
     "output_type": "display_data"
    }
   ],
   "source": [
    "plt.scatter(y=df['DEBTINC'], x=df['VALUE'])"
   ]
  },
  {
   "cell_type": "code",
   "execution_count": 37,
   "metadata": {},
   "outputs": [],
   "source": [
    "for i in range(0,12,1):\n",
    "    df.loc[(df['DEBTINC'].isnull()) & (df['NINQ']==i) , 'DEBTINC'] = df.loc[(df['NINQ']==i), 'DEBTINC'].mean()\n",
    "    \n",
    "df.loc[(df['DEBTINC'].isnull()) & (df['VALUE']<200000.0), 'DEBTINC'] = df.loc[(df['VALUE']<200000.0), 'DEBTINC'].mean()\n",
    "df['DEBTINC'].fillna(df['DEBTINC'].mean(), inplace=True)"
   ]
  },
  {
   "cell_type": "markdown",
   "metadata": {},
   "source": [
    " "
   ]
  },
  {
   "cell_type": "markdown",
   "metadata": {},
   "source": [
    "CLNO-"
   ]
  },
  {
   "cell_type": "code",
   "execution_count": 38,
   "metadata": {},
   "outputs": [
    {
     "data": {
      "text/plain": [
       "<matplotlib.collections.PathCollection at 0x2c3f53176c8>"
      ]
     },
     "execution_count": 38,
     "metadata": {},
     "output_type": "execute_result"
    },
    {
     "data": {
      "image/png": "[encoded data removed]",
      "text/plain": [
       "<Figure size 432x288 with 1 Axes>"
      ]
     },
     "metadata": {
      "needs_background": "light"
     },
     "output_type": "display_data"
    }
   ],
   "source": [
    "plt.scatter(y=df['CLNO'], x=df['MORTDUE'])"
   ]
  },
  {
   "cell_type": "code",
   "execution_count": 39,
   "metadata": {},
   "outputs": [],
   "source": [
    "df.loc[(df['CLNO'].isnull()) & (df['MORTDUE']<100000.0), 'CLNO'] = df.loc[(df['MORTDUE']<200000.0), 'CLNO'].mean()\n",
    "df['CLNO'].fillna(df['CLNO'].mean(), inplace=True)"
   ]
  },
  {
   "cell_type": "markdown",
   "metadata": {},
   "source": [
    " "
   ]
  },
  {
   "cell_type": "markdown",
   "metadata": {},
   "source": [
    " "
   ]
  },
  {
   "cell_type": "markdown",
   "metadata": {},
   "source": [
    "REVIEWING THE DATA-"
   ]
  },
  {
   "cell_type": "code",
   "execution_count": 40,
   "metadata": {},
   "outputs": [
    {
     "data": {
      "text/html": [
       "<div>\n",
       "<style scoped>\n",
       "    .dataframe tbody tr th:only-of-type {\n",
       "        vertical-align: middle;\n",
       "    }\n",
       "\n",
       "    .dataframe tbody tr th {\n",
       "        vertical-align: top;\n",
       "    }\n",
       "\n",
       "    .dataframe thead th {\n",
       "        text-align: right;\n",
       "    }\n",
       "</style>\n",
       "<table border=\"1\" class=\"dataframe\">\n",
       "  <thead>\n",
       "    <tr style=\"text-align: right;\">\n",
       "      <th></th>\n",
       "      <th>BAD</th>\n",
       "      <th>LOAN</th>\n",
       "      <th>MORTDUE</th>\n",
       "      <th>VALUE</th>\n",
       "      <th>REASON</th>\n",
       "      <th>JOB</th>\n",
       "      <th>YOJ</th>\n",
       "      <th>DEROG</th>\n",
       "      <th>DELINQ</th>\n",
       "      <th>CLAGE</th>\n",
       "      <th>NINQ</th>\n",
       "      <th>CLNO</th>\n",
       "      <th>DEBTINC</th>\n",
       "    </tr>\n",
       "  </thead>\n",
       "  <tbody>\n",
       "    <tr>\n",
       "      <td>0</td>\n",
       "      <td>1</td>\n",
       "      <td>1100</td>\n",
       "      <td>25860.000000</td>\n",
       "      <td>39025.000000</td>\n",
       "      <td>1</td>\n",
       "      <td>0</td>\n",
       "      <td>10.500000</td>\n",
       "      <td>0.000000</td>\n",
       "      <td>0.00000</td>\n",
       "      <td>94.366667</td>\n",
       "      <td>1.000000</td>\n",
       "      <td>9.000000</td>\n",
       "      <td>34.514546</td>\n",
       "    </tr>\n",
       "    <tr>\n",
       "      <td>1</td>\n",
       "      <td>1</td>\n",
       "      <td>1300</td>\n",
       "      <td>70053.000000</td>\n",
       "      <td>68400.000000</td>\n",
       "      <td>1</td>\n",
       "      <td>0</td>\n",
       "      <td>7.000000</td>\n",
       "      <td>0.000000</td>\n",
       "      <td>2.00000</td>\n",
       "      <td>121.833333</td>\n",
       "      <td>0.000000</td>\n",
       "      <td>14.000000</td>\n",
       "      <td>32.726318</td>\n",
       "    </tr>\n",
       "    <tr>\n",
       "      <td>2</td>\n",
       "      <td>1</td>\n",
       "      <td>1500</td>\n",
       "      <td>13500.000000</td>\n",
       "      <td>16700.000000</td>\n",
       "      <td>1</td>\n",
       "      <td>0</td>\n",
       "      <td>4.000000</td>\n",
       "      <td>0.000000</td>\n",
       "      <td>0.00000</td>\n",
       "      <td>149.466667</td>\n",
       "      <td>1.000000</td>\n",
       "      <td>10.000000</td>\n",
       "      <td>34.514546</td>\n",
       "    </tr>\n",
       "    <tr>\n",
       "      <td>3</td>\n",
       "      <td>1</td>\n",
       "      <td>1500</td>\n",
       "      <td>51213.769007</td>\n",
       "      <td>102427.538014</td>\n",
       "      <td>0</td>\n",
       "      <td>0</td>\n",
       "      <td>8.388972</td>\n",
       "      <td>0.008661</td>\n",
       "      <td>0.26888</td>\n",
       "      <td>174.836683</td>\n",
       "      <td>1.192982</td>\n",
       "      <td>21.042304</td>\n",
       "      <td>33.949097</td>\n",
       "    </tr>\n",
       "    <tr>\n",
       "      <td>4</td>\n",
       "      <td>0</td>\n",
       "      <td>1700</td>\n",
       "      <td>97800.000000</td>\n",
       "      <td>112000.000000</td>\n",
       "      <td>1</td>\n",
       "      <td>2</td>\n",
       "      <td>3.000000</td>\n",
       "      <td>0.000000</td>\n",
       "      <td>0.00000</td>\n",
       "      <td>93.333333</td>\n",
       "      <td>0.000000</td>\n",
       "      <td>14.000000</td>\n",
       "      <td>32.726318</td>\n",
       "    </tr>\n",
       "    <tr>\n",
       "      <td>...</td>\n",
       "      <td>...</td>\n",
       "      <td>...</td>\n",
       "      <td>...</td>\n",
       "      <td>...</td>\n",
       "      <td>...</td>\n",
       "      <td>...</td>\n",
       "      <td>...</td>\n",
       "      <td>...</td>\n",
       "      <td>...</td>\n",
       "      <td>...</td>\n",
       "      <td>...</td>\n",
       "      <td>...</td>\n",
       "      <td>...</td>\n",
       "    </tr>\n",
       "    <tr>\n",
       "      <td>5955</td>\n",
       "      <td>0</td>\n",
       "      <td>88900</td>\n",
       "      <td>57264.000000</td>\n",
       "      <td>90185.000000</td>\n",
       "      <td>0</td>\n",
       "      <td>0</td>\n",
       "      <td>16.000000</td>\n",
       "      <td>0.000000</td>\n",
       "      <td>0.00000</td>\n",
       "      <td>221.808718</td>\n",
       "      <td>0.000000</td>\n",
       "      <td>16.000000</td>\n",
       "      <td>36.112347</td>\n",
       "    </tr>\n",
       "    <tr>\n",
       "      <td>5956</td>\n",
       "      <td>0</td>\n",
       "      <td>89000</td>\n",
       "      <td>54576.000000</td>\n",
       "      <td>92937.000000</td>\n",
       "      <td>0</td>\n",
       "      <td>0</td>\n",
       "      <td>16.000000</td>\n",
       "      <td>0.000000</td>\n",
       "      <td>0.00000</td>\n",
       "      <td>208.692070</td>\n",
       "      <td>0.000000</td>\n",
       "      <td>15.000000</td>\n",
       "      <td>35.859971</td>\n",
       "    </tr>\n",
       "    <tr>\n",
       "      <td>5957</td>\n",
       "      <td>0</td>\n",
       "      <td>89200</td>\n",
       "      <td>54045.000000</td>\n",
       "      <td>92924.000000</td>\n",
       "      <td>0</td>\n",
       "      <td>0</td>\n",
       "      <td>15.000000</td>\n",
       "      <td>0.000000</td>\n",
       "      <td>0.00000</td>\n",
       "      <td>212.279697</td>\n",
       "      <td>0.000000</td>\n",
       "      <td>15.000000</td>\n",
       "      <td>35.556590</td>\n",
       "    </tr>\n",
       "    <tr>\n",
       "      <td>5958</td>\n",
       "      <td>0</td>\n",
       "      <td>89800</td>\n",
       "      <td>50370.000000</td>\n",
       "      <td>91861.000000</td>\n",
       "      <td>0</td>\n",
       "      <td>0</td>\n",
       "      <td>14.000000</td>\n",
       "      <td>0.000000</td>\n",
       "      <td>0.00000</td>\n",
       "      <td>213.892709</td>\n",
       "      <td>0.000000</td>\n",
       "      <td>16.000000</td>\n",
       "      <td>34.340882</td>\n",
       "    </tr>\n",
       "    <tr>\n",
       "      <td>5959</td>\n",
       "      <td>0</td>\n",
       "      <td>89900</td>\n",
       "      <td>48811.000000</td>\n",
       "      <td>88934.000000</td>\n",
       "      <td>0</td>\n",
       "      <td>0</td>\n",
       "      <td>15.000000</td>\n",
       "      <td>0.000000</td>\n",
       "      <td>0.00000</td>\n",
       "      <td>219.601002</td>\n",
       "      <td>0.000000</td>\n",
       "      <td>16.000000</td>\n",
       "      <td>34.571519</td>\n",
       "    </tr>\n",
       "  </tbody>\n",
       "</table>\n",
       "<p>5960 rows × 13 columns</p>\n",
       "</div>"
      ],
      "text/plain": [
       "      BAD   LOAN       MORTDUE          VALUE REASON JOB        YOJ     DEROG  \\\n",
       "0       1   1100  25860.000000   39025.000000      1   0  10.500000  0.000000   \n",
       "1       1   1300  70053.000000   68400.000000      1   0   7.000000  0.000000   \n",
       "2       1   1500  13500.000000   16700.000000      1   0   4.000000  0.000000   \n",
       "3       1   1500  51213.769007  102427.538014      0   0   8.388972  0.008661   \n",
       "4       0   1700  97800.000000  112000.000000      1   2   3.000000  0.000000   \n",
       "...   ...    ...           ...            ...    ...  ..        ...       ...   \n",
       "5955    0  88900  57264.000000   90185.000000      0   0  16.000000  0.000000   \n",
       "5956    0  89000  54576.000000   92937.000000      0   0  16.000000  0.000000   \n",
       "5957    0  89200  54045.000000   92924.000000      0   0  15.000000  0.000000   \n",
       "5958    0  89800  50370.000000   91861.000000      0   0  14.000000  0.000000   \n",
       "5959    0  89900  48811.000000   88934.000000      0   0  15.000000  0.000000   \n",
       "\n",
       "       DELINQ       CLAGE      NINQ       CLNO    DEBTINC  \n",
       "0     0.00000   94.366667  1.000000   9.000000  34.514546  \n",
       "1     2.00000  121.833333  0.000000  14.000000  32.726318  \n",
       "2     0.00000  149.466667  1.000000  10.000000  34.514546  \n",
       "3     0.26888  174.836683  1.192982  21.042304  33.949097  \n",
       "4     0.00000   93.333333  0.000000  14.000000  32.726318  \n",
       "...       ...         ...       ...        ...        ...  \n",
       "5955  0.00000  221.808718  0.000000  16.000000  36.112347  \n",
       "5956  0.00000  208.692070  0.000000  15.000000  35.859971  \n",
       "5957  0.00000  212.279697  0.000000  15.000000  35.556590  \n",
       "5958  0.00000  213.892709  0.000000  16.000000  34.340882  \n",
       "5959  0.00000  219.601002  0.000000  16.000000  34.571519  \n",
       "\n",
       "[5960 rows x 13 columns]"
      ]
     },
     "execution_count": 40,
     "metadata": {},
     "output_type": "execute_result"
    }
   ],
   "source": [
    "df"
   ]
  },
  {
   "cell_type": "code",
   "execution_count": 41,
   "metadata": {},
   "outputs": [
    {
     "data": {
      "text/plain": [
       "BAD        0\n",
       "LOAN       0\n",
       "MORTDUE    0\n",
       "VALUE      0\n",
       "REASON     0\n",
       "JOB        0\n",
       "YOJ        0\n",
       "DEROG      0\n",
       "DELINQ     0\n",
       "CLAGE      0\n",
       "NINQ       0\n",
       "CLNO       0\n",
       "DEBTINC    0\n",
       "dtype: int64"
      ]
     },
     "execution_count": 41,
     "metadata": {},
     "output_type": "execute_result"
    }
   ],
   "source": [
    "df.isnull().sum()"
   ]
  },
  {
   "cell_type": "code",
   "execution_count": 42,
   "metadata": {},
   "outputs": [
    {
     "name": "stdout",
     "output_type": "stream",
     "text": [
      "<class 'pandas.core.frame.DataFrame'>\n",
      "RangeIndex: 5960 entries, 0 to 5959\n",
      "Data columns (total 13 columns):\n",
      "BAD        5960 non-null int64\n",
      "LOAN       5960 non-null int64\n",
      "MORTDUE    5960 non-null float64\n",
      "VALUE      5960 non-null float64\n",
      "REASON     5960 non-null object\n",
      "JOB        5960 non-null object\n",
      "YOJ        5960 non-null float64\n",
      "DEROG      5960 non-null float64\n",
      "DELINQ     5960 non-null float64\n",
      "CLAGE      5960 non-null float64\n",
      "NINQ       5960 non-null float64\n",
      "CLNO       5960 non-null float64\n",
      "DEBTINC    5960 non-null float64\n",
      "dtypes: float64(9), int64(2), object(2)\n",
      "memory usage: 605.4+ KB\n"
     ]
    }
   ],
   "source": [
    "df.info()"
   ]
  },
  {
   "cell_type": "code",
   "execution_count": 43,
   "metadata": {},
   "outputs": [],
   "source": [
    "df[['REASON','JOB']] = df[['REASON','JOB']].astype('int64')"
   ]
  },
  {
   "cell_type": "code",
   "execution_count": 44,
   "metadata": {},
   "outputs": [
    {
     "name": "stdout",
     "output_type": "stream",
     "text": [
      "<class 'pandas.core.frame.DataFrame'>\n",
      "RangeIndex: 5960 entries, 0 to 5959\n",
      "Data columns (total 13 columns):\n",
      "BAD        5960 non-null int64\n",
      "LOAN       5960 non-null int64\n",
      "MORTDUE    5960 non-null float64\n",
      "VALUE      5960 non-null float64\n",
      "REASON     5960 non-null int64\n",
      "JOB        5960 non-null int64\n",
      "YOJ        5960 non-null float64\n",
      "DEROG      5960 non-null float64\n",
      "DELINQ     5960 non-null float64\n",
      "CLAGE      5960 non-null float64\n",
      "NINQ       5960 non-null float64\n",
      "CLNO       5960 non-null float64\n",
      "DEBTINC    5960 non-null float64\n",
      "dtypes: float64(9), int64(4)\n",
      "memory usage: 605.4 KB\n",
      "----------------------------------------\n"
     ]
    },
    {
     "data": {
      "text/html": [
       "<div>\n",
       "<style scoped>\n",
       "    .dataframe tbody tr th:only-of-type {\n",
       "        vertical-align: middle;\n",
       "    }\n",
       "\n",
       "    .dataframe tbody tr th {\n",
       "        vertical-align: top;\n",
       "    }\n",
       "\n",
       "    .dataframe thead th {\n",
       "        text-align: right;\n",
       "    }\n",
       "</style>\n",
       "<table border=\"1\" class=\"dataframe\">\n",
       "  <thead>\n",
       "    <tr style=\"text-align: right;\">\n",
       "      <th></th>\n",
       "      <th>BAD</th>\n",
       "      <th>LOAN</th>\n",
       "      <th>MORTDUE</th>\n",
       "      <th>VALUE</th>\n",
       "      <th>REASON</th>\n",
       "      <th>JOB</th>\n",
       "      <th>YOJ</th>\n",
       "      <th>DEROG</th>\n",
       "      <th>DELINQ</th>\n",
       "      <th>CLAGE</th>\n",
       "      <th>NINQ</th>\n",
       "      <th>CLNO</th>\n",
       "      <th>DEBTINC</th>\n",
       "    </tr>\n",
       "  </thead>\n",
       "  <tbody>\n",
       "    <tr>\n",
       "      <td>count</td>\n",
       "      <td>5960.000000</td>\n",
       "      <td>5960.000000</td>\n",
       "      <td>5960.000000</td>\n",
       "      <td>5960.000000</td>\n",
       "      <td>5960.000000</td>\n",
       "      <td>5960.000000</td>\n",
       "      <td>5960.000000</td>\n",
       "      <td>5960.000000</td>\n",
       "      <td>5960.000000</td>\n",
       "      <td>5960.000000</td>\n",
       "      <td>5960.000000</td>\n",
       "      <td>5960.000000</td>\n",
       "      <td>5960.000000</td>\n",
       "    </tr>\n",
       "    <tr>\n",
       "      <td>mean</td>\n",
       "      <td>0.199497</td>\n",
       "      <td>18607.969799</td>\n",
       "      <td>70326.297170</td>\n",
       "      <td>102427.538014</td>\n",
       "      <td>0.298658</td>\n",
       "      <td>1.139262</td>\n",
       "      <td>8.876186</td>\n",
       "      <td>0.243507</td>\n",
       "      <td>0.439410</td>\n",
       "      <td>174.836683</td>\n",
       "      <td>1.192982</td>\n",
       "      <td>21.287136</td>\n",
       "      <td>33.978350</td>\n",
       "    </tr>\n",
       "    <tr>\n",
       "      <td>std</td>\n",
       "      <td>0.399656</td>\n",
       "      <td>11207.480417</td>\n",
       "      <td>45291.736536</td>\n",
       "      <td>58808.375516</td>\n",
       "      <td>0.457708</td>\n",
       "      <td>1.298560</td>\n",
       "      <td>7.240852</td>\n",
       "      <td>0.799328</td>\n",
       "      <td>1.073548</td>\n",
       "      <td>88.296060</td>\n",
       "      <td>1.656479</td>\n",
       "      <td>9.948390</td>\n",
       "      <td>7.687606</td>\n",
       "    </tr>\n",
       "    <tr>\n",
       "      <td>min</td>\n",
       "      <td>0.000000</td>\n",
       "      <td>1100.000000</td>\n",
       "      <td>2063.000000</td>\n",
       "      <td>8000.000000</td>\n",
       "      <td>0.000000</td>\n",
       "      <td>0.000000</td>\n",
       "      <td>0.000000</td>\n",
       "      <td>0.000000</td>\n",
       "      <td>0.000000</td>\n",
       "      <td>0.000000</td>\n",
       "      <td>0.000000</td>\n",
       "      <td>0.000000</td>\n",
       "      <td>0.524499</td>\n",
       "    </tr>\n",
       "    <tr>\n",
       "      <td>25%</td>\n",
       "      <td>0.000000</td>\n",
       "      <td>11100.000000</td>\n",
       "      <td>41495.250000</td>\n",
       "      <td>66223.750000</td>\n",
       "      <td>0.000000</td>\n",
       "      <td>0.000000</td>\n",
       "      <td>3.000000</td>\n",
       "      <td>0.000000</td>\n",
       "      <td>0.000000</td>\n",
       "      <td>112.500095</td>\n",
       "      <td>0.000000</td>\n",
       "      <td>15.000000</td>\n",
       "      <td>30.763159</td>\n",
       "    </tr>\n",
       "    <tr>\n",
       "      <td>50%</td>\n",
       "      <td>0.000000</td>\n",
       "      <td>16300.000000</td>\n",
       "      <td>62042.500000</td>\n",
       "      <td>89668.000000</td>\n",
       "      <td>0.000000</td>\n",
       "      <td>1.000000</td>\n",
       "      <td>8.000000</td>\n",
       "      <td>0.000000</td>\n",
       "      <td>0.000000</td>\n",
       "      <td>172.863318</td>\n",
       "      <td>1.000000</td>\n",
       "      <td>21.000000</td>\n",
       "      <td>34.514546</td>\n",
       "    </tr>\n",
       "    <tr>\n",
       "      <td>75%</td>\n",
       "      <td>0.000000</td>\n",
       "      <td>23300.000000</td>\n",
       "      <td>88245.750000</td>\n",
       "      <td>120707.500000</td>\n",
       "      <td>1.000000</td>\n",
       "      <td>2.000000</td>\n",
       "      <td>12.000000</td>\n",
       "      <td>0.000000</td>\n",
       "      <td>0.268880</td>\n",
       "      <td>227.143058</td>\n",
       "      <td>2.000000</td>\n",
       "      <td>26.000000</td>\n",
       "      <td>38.130370</td>\n",
       "    </tr>\n",
       "    <tr>\n",
       "      <td>max</td>\n",
       "      <td>1.000000</td>\n",
       "      <td>89900.000000</td>\n",
       "      <td>427954.500000</td>\n",
       "      <td>855909.000000</td>\n",
       "      <td>1.000000</td>\n",
       "      <td>5.000000</td>\n",
       "      <td>41.000000</td>\n",
       "      <td>10.000000</td>\n",
       "      <td>15.000000</td>\n",
       "      <td>1168.233561</td>\n",
       "      <td>17.000000</td>\n",
       "      <td>71.000000</td>\n",
       "      <td>203.312149</td>\n",
       "    </tr>\n",
       "  </tbody>\n",
       "</table>\n",
       "</div>"
      ],
      "text/plain": [
       "               BAD          LOAN        MORTDUE          VALUE       REASON  \\\n",
       "count  5960.000000   5960.000000    5960.000000    5960.000000  5960.000000   \n",
       "mean      0.199497  18607.969799   70326.297170  102427.538014     0.298658   \n",
       "std       0.399656  11207.480417   45291.736536   58808.375516     0.457708   \n",
       "min       0.000000   1100.000000    2063.000000    8000.000000     0.000000   \n",
       "25%       0.000000  11100.000000   41495.250000   66223.750000     0.000000   \n",
       "50%       0.000000  16300.000000   62042.500000   89668.000000     0.000000   \n",
       "75%       0.000000  23300.000000   88245.750000  120707.500000     1.000000   \n",
       "max       1.000000  89900.000000  427954.500000  855909.000000     1.000000   \n",
       "\n",
       "               JOB          YOJ        DEROG       DELINQ        CLAGE  \\\n",
       "count  5960.000000  5960.000000  5960.000000  5960.000000  5960.000000   \n",
       "mean      1.139262     8.876186     0.243507     0.439410   174.836683   \n",
       "std       1.298560     7.240852     0.799328     1.073548    88.296060   \n",
       "min       0.000000     0.000000     0.000000     0.000000     0.000000   \n",
       "25%       0.000000     3.000000     0.000000     0.000000   112.500095   \n",
       "50%       1.000000     8.000000     0.000000     0.000000   172.863318   \n",
       "75%       2.000000    12.000000     0.000000     0.268880   227.143058   \n",
       "max       5.000000    41.000000    10.000000    15.000000  1168.233561   \n",
       "\n",
       "              NINQ         CLNO      DEBTINC  \n",
       "count  5960.000000  5960.000000  5960.000000  \n",
       "mean      1.192982    21.287136    33.978350  \n",
       "std       1.656479     9.948390     7.687606  \n",
       "min       0.000000     0.000000     0.524499  \n",
       "25%       0.000000    15.000000    30.763159  \n",
       "50%       1.000000    21.000000    34.514546  \n",
       "75%       2.000000    26.000000    38.130370  \n",
       "max      17.000000    71.000000   203.312149  "
      ]
     },
     "execution_count": 44,
     "metadata": {},
     "output_type": "execute_result"
    }
   ],
   "source": [
    "df.info()\n",
    "print('-'*40)\n",
    "df.describe()"
   ]
  },
  {
   "cell_type": "code",
   "execution_count": 45,
   "metadata": {},
   "outputs": [
    {
     "data": {
      "text/plain": [
       "<matplotlib.axes._subplots.AxesSubplot at 0x2c3f3345648>"
      ]
     },
     "execution_count": 45,
     "metadata": {},
     "output_type": "execute_result"
    },
    {
     "data": {
      "image/png": "[encoded data removed]",
      "text/plain": [
       "<Figure size 720x720 with 2 Axes>"
      ]
     },
     "metadata": {
      "needs_background": "light"
     },
     "output_type": "display_data"
    }
   ],
   "source": [
    "plt.figure(figsize=(10,10))\n",
    "sns.heatmap(df.corr().dropna(), annot=True, cmap='coolwarm')"
   ]
  },
  {
   "cell_type": "markdown",
   "metadata": {},
   "source": [
    "SPLITTING THE DATA"
   ]
  },
  {
   "cell_type": "code",
   "execution_count": 50,
   "metadata": {},
   "outputs": [],
   "source": [
    "from sklearn.model_selection import train_test_split\n",
    "X = df.drop('BAD', axis=1)\n",
    "y = df['BAD']\n",
    "X_train, X_test, y_train, y_test = train_test_split(X,y,test_size=0.3,random_state = 101)"
   ]
  },
  {
   "cell_type": "markdown",
   "metadata": {},
   "source": [
    "MODEL"
   ]
  },
  {
   "cell_type": "code",
   "execution_count": 51,
   "metadata": {},
   "outputs": [],
   "source": [
    "#RandomForestClassifier\n",
    "\n",
    "from sklearn.ensemble import RandomForestClassifier\n",
    "from sklearn.model_selection import GridSearchCV\n",
    "model = RandomForestClassifier(n_jobs=-1)\n",
    "param = {'n_estimators':range(30,100,10), 'max_depth':range(10,50,5), 'criterion':['gini','entropy']}\n",
    "grid = GridSearchCV(model, param, cv=3)\n",
    "grid.fit(X_train, y_train)\n",
    "grid.best_params_\n",
    "predictions = grid.predict(X_test)"
   ]
  },
  {
   "cell_type": "code",
   "execution_count": 52,
   "metadata": {},
   "outputs": [
    {
     "data": {
      "text/plain": [
       "{'criterion': 'gini', 'max_depth': 20, 'n_estimators': 50}"
      ]
     },
     "execution_count": 52,
     "metadata": {},
     "output_type": "execute_result"
    }
   ],
   "source": [
    "grid.best_params_"
   ]
  },
  {
   "cell_type": "markdown",
   "metadata": {},
   "source": [
    "PREDICTIONS"
   ]
  },
  {
   "cell_type": "code",
   "execution_count": 53,
   "metadata": {},
   "outputs": [
    {
     "name": "stdout",
     "output_type": "stream",
     "text": [
      "accuracy score :  0.9183445190156599\n",
      "precision score :  0.8276712537643427\n",
      "recall score :  0.914419192162686\n",
      "              precision    recall  f1-score   support\n",
      "\n",
      "           0       0.92      0.98      0.95      1418\n",
      "           1       0.91      0.67      0.77       370\n",
      "\n",
      "    accuracy                           0.92      1788\n",
      "   macro avg       0.91      0.83      0.86      1788\n",
      "weighted avg       0.92      0.92      0.91      1788\n",
      "\n"
     ]
    }
   ],
   "source": [
    "from sklearn.metrics import accuracy_score, confusion_matrix, recall_score, precision_score, classification_report\n",
    "acs=accuracy_score(y_test,predictions)\n",
    "rs=recall_score(y_test,predictions, average='macro') \n",
    "ps=precision_score(y_test,predictions, average='macro') \n",
    "print(\"accuracy score : \",acs)\n",
    "print(\"precision score : \",rs)\n",
    "print(\"recall score : \",ps)\n",
    "#print(\"Accuracy : %s\" % \"{0:.3%}\".format(acs))\n",
    "print(classification_report(y_test, predictions))"
   ]
  },
  {
   "cell_type": "markdown",
   "metadata": {},
   "source": [
    " "
   ]
  },
  {
   "cell_type": "markdown",
   "metadata": {},
   "source": [
    "SCALING FEATURES"
   ]
  },
  {
   "cell_type": "code",
   "execution_count": 91,
   "metadata": {},
   "outputs": [],
   "source": [
    "df1 = df.drop('BAD', axis=1)"
   ]
  },
  {
   "cell_type": "code",
   "execution_count": 92,
   "metadata": {},
   "outputs": [
    {
     "data": {
      "text/html": [
       "<div>\n",
       "<style scoped>\n",
       "    .dataframe tbody tr th:only-of-type {\n",
       "        vertical-align: middle;\n",
       "    }\n",
       "\n",
       "    .dataframe tbody tr th {\n",
       "        vertical-align: top;\n",
       "    }\n",
       "\n",
       "    .dataframe thead th {\n",
       "        text-align: right;\n",
       "    }\n",
       "</style>\n",
       "<table border=\"1\" class=\"dataframe\">\n",
       "  <thead>\n",
       "    <tr style=\"text-align: right;\">\n",
       "      <th></th>\n",
       "      <th>LOAN</th>\n",
       "      <th>MORTDUE</th>\n",
       "      <th>VALUE</th>\n",
       "      <th>REASON</th>\n",
       "      <th>JOB</th>\n",
       "      <th>YOJ</th>\n",
       "      <th>DEROG</th>\n",
       "      <th>DELINQ</th>\n",
       "      <th>CLAGE</th>\n",
       "      <th>NINQ</th>\n",
       "      <th>CLNO</th>\n",
       "      <th>DEBTINC</th>\n",
       "    </tr>\n",
       "  </thead>\n",
       "  <tbody>\n",
       "    <tr>\n",
       "      <td>0</td>\n",
       "      <td>1100</td>\n",
       "      <td>25860.000000</td>\n",
       "      <td>39025.000000</td>\n",
       "      <td>1</td>\n",
       "      <td>0</td>\n",
       "      <td>10.500000</td>\n",
       "      <td>0.000000</td>\n",
       "      <td>0.00000</td>\n",
       "      <td>94.366667</td>\n",
       "      <td>1.000000</td>\n",
       "      <td>9.000000</td>\n",
       "      <td>34.514546</td>\n",
       "    </tr>\n",
       "    <tr>\n",
       "      <td>1</td>\n",
       "      <td>1300</td>\n",
       "      <td>70053.000000</td>\n",
       "      <td>68400.000000</td>\n",
       "      <td>1</td>\n",
       "      <td>0</td>\n",
       "      <td>7.000000</td>\n",
       "      <td>0.000000</td>\n",
       "      <td>2.00000</td>\n",
       "      <td>121.833333</td>\n",
       "      <td>0.000000</td>\n",
       "      <td>14.000000</td>\n",
       "      <td>32.726318</td>\n",
       "    </tr>\n",
       "    <tr>\n",
       "      <td>2</td>\n",
       "      <td>1500</td>\n",
       "      <td>13500.000000</td>\n",
       "      <td>16700.000000</td>\n",
       "      <td>1</td>\n",
       "      <td>0</td>\n",
       "      <td>4.000000</td>\n",
       "      <td>0.000000</td>\n",
       "      <td>0.00000</td>\n",
       "      <td>149.466667</td>\n",
       "      <td>1.000000</td>\n",
       "      <td>10.000000</td>\n",
       "      <td>34.514546</td>\n",
       "    </tr>\n",
       "    <tr>\n",
       "      <td>3</td>\n",
       "      <td>1500</td>\n",
       "      <td>51213.769007</td>\n",
       "      <td>102427.538014</td>\n",
       "      <td>0</td>\n",
       "      <td>0</td>\n",
       "      <td>8.388972</td>\n",
       "      <td>0.008661</td>\n",
       "      <td>0.26888</td>\n",
       "      <td>174.836683</td>\n",
       "      <td>1.192982</td>\n",
       "      <td>21.042304</td>\n",
       "      <td>33.949097</td>\n",
       "    </tr>\n",
       "    <tr>\n",
       "      <td>4</td>\n",
       "      <td>1700</td>\n",
       "      <td>97800.000000</td>\n",
       "      <td>112000.000000</td>\n",
       "      <td>1</td>\n",
       "      <td>2</td>\n",
       "      <td>3.000000</td>\n",
       "      <td>0.000000</td>\n",
       "      <td>0.00000</td>\n",
       "      <td>93.333333</td>\n",
       "      <td>0.000000</td>\n",
       "      <td>14.000000</td>\n",
       "      <td>32.726318</td>\n",
       "    </tr>\n",
       "    <tr>\n",
       "      <td>...</td>\n",
       "      <td>...</td>\n",
       "      <td>...</td>\n",
       "      <td>...</td>\n",
       "      <td>...</td>\n",
       "      <td>...</td>\n",
       "      <td>...</td>\n",
       "      <td>...</td>\n",
       "      <td>...</td>\n",
       "      <td>...</td>\n",
       "      <td>...</td>\n",
       "      <td>...</td>\n",
       "      <td>...</td>\n",
       "    </tr>\n",
       "    <tr>\n",
       "      <td>5955</td>\n",
       "      <td>88900</td>\n",
       "      <td>57264.000000</td>\n",
       "      <td>90185.000000</td>\n",
       "      <td>0</td>\n",
       "      <td>0</td>\n",
       "      <td>16.000000</td>\n",
       "      <td>0.000000</td>\n",
       "      <td>0.00000</td>\n",
       "      <td>221.808718</td>\n",
       "      <td>0.000000</td>\n",
       "      <td>16.000000</td>\n",
       "      <td>36.112347</td>\n",
       "    </tr>\n",
       "    <tr>\n",
       "      <td>5956</td>\n",
       "      <td>89000</td>\n",
       "      <td>54576.000000</td>\n",
       "      <td>92937.000000</td>\n",
       "      <td>0</td>\n",
       "      <td>0</td>\n",
       "      <td>16.000000</td>\n",
       "      <td>0.000000</td>\n",
       "      <td>0.00000</td>\n",
       "      <td>208.692070</td>\n",
       "      <td>0.000000</td>\n",
       "      <td>15.000000</td>\n",
       "      <td>35.859971</td>\n",
       "    </tr>\n",
       "    <tr>\n",
       "      <td>5957</td>\n",
       "      <td>89200</td>\n",
       "      <td>54045.000000</td>\n",
       "      <td>92924.000000</td>\n",
       "      <td>0</td>\n",
       "      <td>0</td>\n",
       "      <td>15.000000</td>\n",
       "      <td>0.000000</td>\n",
       "      <td>0.00000</td>\n",
       "      <td>212.279697</td>\n",
       "      <td>0.000000</td>\n",
       "      <td>15.000000</td>\n",
       "      <td>35.556590</td>\n",
       "    </tr>\n",
       "    <tr>\n",
       "      <td>5958</td>\n",
       "      <td>89800</td>\n",
       "      <td>50370.000000</td>\n",
       "      <td>91861.000000</td>\n",
       "      <td>0</td>\n",
       "      <td>0</td>\n",
       "      <td>14.000000</td>\n",
       "      <td>0.000000</td>\n",
       "      <td>0.00000</td>\n",
       "      <td>213.892709</td>\n",
       "      <td>0.000000</td>\n",
       "      <td>16.000000</td>\n",
       "      <td>34.340882</td>\n",
       "    </tr>\n",
       "    <tr>\n",
       "      <td>5959</td>\n",
       "      <td>89900</td>\n",
       "      <td>48811.000000</td>\n",
       "      <td>88934.000000</td>\n",
       "      <td>0</td>\n",
       "      <td>0</td>\n",
       "      <td>15.000000</td>\n",
       "      <td>0.000000</td>\n",
       "      <td>0.00000</td>\n",
       "      <td>219.601002</td>\n",
       "      <td>0.000000</td>\n",
       "      <td>16.000000</td>\n",
       "      <td>34.571519</td>\n",
       "    </tr>\n",
       "  </tbody>\n",
       "</table>\n",
       "<p>5960 rows × 12 columns</p>\n",
       "</div>"
      ],
      "text/plain": [
       "       LOAN       MORTDUE          VALUE  REASON  JOB        YOJ     DEROG  \\\n",
       "0      1100  25860.000000   39025.000000       1    0  10.500000  0.000000   \n",
       "1      1300  70053.000000   68400.000000       1    0   7.000000  0.000000   \n",
       "2      1500  13500.000000   16700.000000       1    0   4.000000  0.000000   \n",
       "3      1500  51213.769007  102427.538014       0    0   8.388972  0.008661   \n",
       "4      1700  97800.000000  112000.000000       1    2   3.000000  0.000000   \n",
       "...     ...           ...            ...     ...  ...        ...       ...   \n",
       "5955  88900  57264.000000   90185.000000       0    0  16.000000  0.000000   \n",
       "5956  89000  54576.000000   92937.000000       0    0  16.000000  0.000000   \n",
       "5957  89200  54045.000000   92924.000000       0    0  15.000000  0.000000   \n",
       "5958  89800  50370.000000   91861.000000       0    0  14.000000  0.000000   \n",
       "5959  89900  48811.000000   88934.000000       0    0  15.000000  0.000000   \n",
       "\n",
       "       DELINQ       CLAGE      NINQ       CLNO    DEBTINC  \n",
       "0     0.00000   94.366667  1.000000   9.000000  34.514546  \n",
       "1     2.00000  121.833333  0.000000  14.000000  32.726318  \n",
       "2     0.00000  149.466667  1.000000  10.000000  34.514546  \n",
       "3     0.26888  174.836683  1.192982  21.042304  33.949097  \n",
       "4     0.00000   93.333333  0.000000  14.000000  32.726318  \n",
       "...       ...         ...       ...        ...        ...  \n",
       "5955  0.00000  221.808718  0.000000  16.000000  36.112347  \n",
       "5956  0.00000  208.692070  0.000000  15.000000  35.859971  \n",
       "5957  0.00000  212.279697  0.000000  15.000000  35.556590  \n",
       "5958  0.00000  213.892709  0.000000  16.000000  34.340882  \n",
       "5959  0.00000  219.601002  0.000000  16.000000  34.571519  \n",
       "\n",
       "[5960 rows x 12 columns]"
      ]
     },
     "execution_count": 92,
     "metadata": {},
     "output_type": "execute_result"
    }
   ],
   "source": [
    "df1"
   ]
  },
  {
   "cell_type": "code",
   "execution_count": 93,
   "metadata": {},
   "outputs": [],
   "source": [
    "from sklearn.preprocessing import StandardScaler\n",
    "scaler = StandardScaler()\n",
    "scaler.fit(df1)\n",
    "scaled_features = scaler.transform(df1)"
   ]
  },
  {
   "cell_type": "code",
   "execution_count": 94,
   "metadata": {},
   "outputs": [],
   "source": [
    "df_scaled = pd.DataFrame(scaled_features, columns=df1.columns)"
   ]
  },
  {
   "cell_type": "code",
   "execution_count": 95,
   "metadata": {},
   "outputs": [
    {
     "data": {
      "text/html": [
       "<div>\n",
       "<style scoped>\n",
       "    .dataframe tbody tr th:only-of-type {\n",
       "        vertical-align: middle;\n",
       "    }\n",
       "\n",
       "    .dataframe tbody tr th {\n",
       "        vertical-align: top;\n",
       "    }\n",
       "\n",
       "    .dataframe thead th {\n",
       "        text-align: right;\n",
       "    }\n",
       "</style>\n",
       "<table border=\"1\" class=\"dataframe\">\n",
       "  <thead>\n",
       "    <tr style=\"text-align: right;\">\n",
       "      <th></th>\n",
       "      <th>LOAN</th>\n",
       "      <th>MORTDUE</th>\n",
       "      <th>VALUE</th>\n",
       "      <th>REASON</th>\n",
       "      <th>JOB</th>\n",
       "      <th>YOJ</th>\n",
       "      <th>DEROG</th>\n",
       "      <th>DELINQ</th>\n",
       "      <th>CLAGE</th>\n",
       "      <th>NINQ</th>\n",
       "      <th>CLNO</th>\n",
       "      <th>DEBTINC</th>\n",
       "    </tr>\n",
       "  </thead>\n",
       "  <tbody>\n",
       "    <tr>\n",
       "      <td>0</td>\n",
       "      <td>-1.562299</td>\n",
       "      <td>-0.981857</td>\n",
       "      <td>-1.078211e+00</td>\n",
       "      <td>1.532421</td>\n",
       "      <td>-0.877401</td>\n",
       "      <td>0.224276</td>\n",
       "      <td>-0.304666</td>\n",
       "      <td>-0.409340</td>\n",
       "      <td>-9.114424e-01</td>\n",
       "      <td>-1.165110e-01</td>\n",
       "      <td>-1.235192</td>\n",
       "      <td>0.069754</td>\n",
       "    </tr>\n",
       "    <tr>\n",
       "      <td>1</td>\n",
       "      <td>-1.544453</td>\n",
       "      <td>-0.006035</td>\n",
       "      <td>-5.786658e-01</td>\n",
       "      <td>1.532421</td>\n",
       "      <td>-0.877401</td>\n",
       "      <td>-0.259133</td>\n",
       "      <td>-0.304666</td>\n",
       "      <td>1.453797</td>\n",
       "      <td>-6.003416e-01</td>\n",
       "      <td>-7.202519e-01</td>\n",
       "      <td>-0.732555</td>\n",
       "      <td>-0.162877</td>\n",
       "    </tr>\n",
       "    <tr>\n",
       "      <td>2</td>\n",
       "      <td>-1.526606</td>\n",
       "      <td>-1.254778</td>\n",
       "      <td>-1.457866e+00</td>\n",
       "      <td>1.532421</td>\n",
       "      <td>-0.877401</td>\n",
       "      <td>-0.673484</td>\n",
       "      <td>-0.304666</td>\n",
       "      <td>-0.409340</td>\n",
       "      <td>-2.873531e-01</td>\n",
       "      <td>-1.165110e-01</td>\n",
       "      <td>-1.134664</td>\n",
       "      <td>0.069754</td>\n",
       "    </tr>\n",
       "    <tr>\n",
       "      <td>3</td>\n",
       "      <td>-1.526606</td>\n",
       "      <td>-0.422022</td>\n",
       "      <td>-2.474671e-16</td>\n",
       "      <td>-0.652562</td>\n",
       "      <td>-0.877401</td>\n",
       "      <td>-0.067293</td>\n",
       "      <td>-0.293830</td>\n",
       "      <td>-0.158860</td>\n",
       "      <td>7.082197e-15</td>\n",
       "      <td>8.043445e-16</td>\n",
       "      <td>-0.024612</td>\n",
       "      <td>-0.003805</td>\n",
       "    </tr>\n",
       "    <tr>\n",
       "      <td>4</td>\n",
       "      <td>-1.508759</td>\n",
       "      <td>0.606645</td>\n",
       "      <td>1.627874e-01</td>\n",
       "      <td>1.532421</td>\n",
       "      <td>0.662896</td>\n",
       "      <td>-0.811601</td>\n",
       "      <td>-0.304666</td>\n",
       "      <td>-0.409340</td>\n",
       "      <td>-9.231464e-01</td>\n",
       "      <td>-7.202519e-01</td>\n",
       "      <td>-0.732555</td>\n",
       "      <td>-0.162877</td>\n",
       "    </tr>\n",
       "    <tr>\n",
       "      <td>...</td>\n",
       "      <td>...</td>\n",
       "      <td>...</td>\n",
       "      <td>...</td>\n",
       "      <td>...</td>\n",
       "      <td>...</td>\n",
       "      <td>...</td>\n",
       "      <td>...</td>\n",
       "      <td>...</td>\n",
       "      <td>...</td>\n",
       "      <td>...</td>\n",
       "      <td>...</td>\n",
       "      <td>...</td>\n",
       "    </tr>\n",
       "    <tr>\n",
       "      <td>5955</td>\n",
       "      <td>6.272411</td>\n",
       "      <td>-0.288428</td>\n",
       "      <td>-2.081942e-01</td>\n",
       "      <td>-0.652562</td>\n",
       "      <td>-0.877401</td>\n",
       "      <td>0.983919</td>\n",
       "      <td>-0.304666</td>\n",
       "      <td>-0.409340</td>\n",
       "      <td>5.320280e-01</td>\n",
       "      <td>-7.202519e-01</td>\n",
       "      <td>-0.531501</td>\n",
       "      <td>0.277613</td>\n",
       "    </tr>\n",
       "    <tr>\n",
       "      <td>5956</td>\n",
       "      <td>6.281335</td>\n",
       "      <td>-0.347781</td>\n",
       "      <td>-1.613943e-01</td>\n",
       "      <td>-0.652562</td>\n",
       "      <td>-0.877401</td>\n",
       "      <td>0.983919</td>\n",
       "      <td>-0.304666</td>\n",
       "      <td>-0.409340</td>\n",
       "      <td>3.834625e-01</td>\n",
       "      <td>-7.202519e-01</td>\n",
       "      <td>-0.632028</td>\n",
       "      <td>0.244781</td>\n",
       "    </tr>\n",
       "    <tr>\n",
       "      <td>5957</td>\n",
       "      <td>6.299181</td>\n",
       "      <td>-0.359506</td>\n",
       "      <td>-1.616153e-01</td>\n",
       "      <td>-0.652562</td>\n",
       "      <td>-0.877401</td>\n",
       "      <td>0.845802</td>\n",
       "      <td>-0.304666</td>\n",
       "      <td>-0.409340</td>\n",
       "      <td>4.240977e-01</td>\n",
       "      <td>-7.202519e-01</td>\n",
       "      <td>-0.632028</td>\n",
       "      <td>0.205314</td>\n",
       "    </tr>\n",
       "    <tr>\n",
       "      <td>5958</td>\n",
       "      <td>6.352722</td>\n",
       "      <td>-0.440654</td>\n",
       "      <td>-1.796925e-01</td>\n",
       "      <td>-0.652562</td>\n",
       "      <td>-0.877401</td>\n",
       "      <td>0.707685</td>\n",
       "      <td>-0.304666</td>\n",
       "      <td>-0.409340</td>\n",
       "      <td>4.423674e-01</td>\n",
       "      <td>-7.202519e-01</td>\n",
       "      <td>-0.531501</td>\n",
       "      <td>0.047162</td>\n",
       "    </tr>\n",
       "    <tr>\n",
       "      <td>5959</td>\n",
       "      <td>6.361645</td>\n",
       "      <td>-0.475078</td>\n",
       "      <td>-2.294685e-01</td>\n",
       "      <td>-0.652562</td>\n",
       "      <td>-0.877401</td>\n",
       "      <td>0.845802</td>\n",
       "      <td>-0.304666</td>\n",
       "      <td>-0.409340</td>\n",
       "      <td>5.070223e-01</td>\n",
       "      <td>-7.202519e-01</td>\n",
       "      <td>-0.531501</td>\n",
       "      <td>0.077166</td>\n",
       "    </tr>\n",
       "  </tbody>\n",
       "</table>\n",
       "<p>5960 rows × 12 columns</p>\n",
       "</div>"
      ],
      "text/plain": [
       "          LOAN   MORTDUE         VALUE    REASON       JOB       YOJ  \\\n",
       "0    -1.562299 -0.981857 -1.078211e+00  1.532421 -0.877401  0.224276   \n",
       "1    -1.544453 -0.006035 -5.786658e-01  1.532421 -0.877401 -0.259133   \n",
       "2    -1.526606 -1.254778 -1.457866e+00  1.532421 -0.877401 -0.673484   \n",
       "3    -1.526606 -0.422022 -2.474671e-16 -0.652562 -0.877401 -0.067293   \n",
       "4    -1.508759  0.606645  1.627874e-01  1.532421  0.662896 -0.811601   \n",
       "...        ...       ...           ...       ...       ...       ...   \n",
       "5955  6.272411 -0.288428 -2.081942e-01 -0.652562 -0.877401  0.983919   \n",
       "5956  6.281335 -0.347781 -1.613943e-01 -0.652562 -0.877401  0.983919   \n",
       "5957  6.299181 -0.359506 -1.616153e-01 -0.652562 -0.877401  0.845802   \n",
       "5958  6.352722 -0.440654 -1.796925e-01 -0.652562 -0.877401  0.707685   \n",
       "5959  6.361645 -0.475078 -2.294685e-01 -0.652562 -0.877401  0.845802   \n",
       "\n",
       "         DEROG    DELINQ         CLAGE          NINQ      CLNO   DEBTINC  \n",
       "0    -0.304666 -0.409340 -9.114424e-01 -1.165110e-01 -1.235192  0.069754  \n",
       "1    -0.304666  1.453797 -6.003416e-01 -7.202519e-01 -0.732555 -0.162877  \n",
       "2    -0.304666 -0.409340 -2.873531e-01 -1.165110e-01 -1.134664  0.069754  \n",
       "3    -0.293830 -0.158860  7.082197e-15  8.043445e-16 -0.024612 -0.003805  \n",
       "4    -0.304666 -0.409340 -9.231464e-01 -7.202519e-01 -0.732555 -0.162877  \n",
       "...        ...       ...           ...           ...       ...       ...  \n",
       "5955 -0.304666 -0.409340  5.320280e-01 -7.202519e-01 -0.531501  0.277613  \n",
       "5956 -0.304666 -0.409340  3.834625e-01 -7.202519e-01 -0.632028  0.244781  \n",
       "5957 -0.304666 -0.409340  4.240977e-01 -7.202519e-01 -0.632028  0.205314  \n",
       "5958 -0.304666 -0.409340  4.423674e-01 -7.202519e-01 -0.531501  0.047162  \n",
       "5959 -0.304666 -0.409340  5.070223e-01 -7.202519e-01 -0.531501  0.077166  \n",
       "\n",
       "[5960 rows x 12 columns]"
      ]
     },
     "execution_count": 95,
     "metadata": {},
     "output_type": "execute_result"
    }
   ],
   "source": [
    "df_scaled"
   ]
  },
  {
   "cell_type": "code",
   "execution_count": 59,
   "metadata": {},
   "outputs": [],
   "source": [
    "#AGAIN SPLITTING THE DATA AFTER FEATURES WERE SCALED\n",
    "\n",
    "from sklearn.model_selection import train_test_split\n",
    "X = df_scaled\n",
    "y = df['BAD']\n",
    "X_train, X_test, y_train, y_test = train_test_split(X,y,test_size=0.3,random_state = 101)"
   ]
  },
  {
   "cell_type": "code",
   "execution_count": 60,
   "metadata": {},
   "outputs": [],
   "source": [
    "#AGAIN APPLYING THE MODEL AFTER FEATURES WERE SCALED\n",
    "\n",
    "from sklearn.ensemble import RandomForestClassifier\n",
    "from sklearn.model_selection import GridSearchCV\n",
    "model = RandomForestClassifier(n_jobs=-1)\n",
    "param = {'n_estimators':range(30,100,10), 'max_depth':range(10,50,5), 'criterion':['gini','entropy']}\n",
    "grid = GridSearchCV(model, param, cv=3)\n",
    "grid.fit(X_train, y_train)\n",
    "grid.best_params_\n",
    "predictions = grid.predict(X_test)"
   ]
  },
  {
   "cell_type": "code",
   "execution_count": 61,
   "metadata": {},
   "outputs": [
    {
     "data": {
      "text/plain": [
       "{'criterion': 'gini', 'max_depth': 20, 'n_estimators': 90}"
      ]
     },
     "execution_count": 61,
     "metadata": {},
     "output_type": "execute_result"
    }
   ],
   "source": [
    "grid.best_params_"
   ]
  },
  {
   "cell_type": "code",
   "execution_count": 62,
   "metadata": {},
   "outputs": [
    {
     "name": "stdout",
     "output_type": "stream",
     "text": [
      "accuracy score :  0.9239373601789709\n",
      "precision score :  0.8381885411504594\n",
      "recall score :  0.9226833103053981\n",
      "              precision    recall  f1-score   support\n",
      "\n",
      "           0       0.92      0.98      0.95      1418\n",
      "           1       0.92      0.69      0.79       370\n",
      "\n",
      "    accuracy                           0.92      1788\n",
      "   macro avg       0.92      0.84      0.87      1788\n",
      "weighted avg       0.92      0.92      0.92      1788\n",
      "\n"
     ]
    }
   ],
   "source": [
    "from sklearn.metrics import accuracy_score, confusion_matrix, recall_score, precision_score, classification_report\n",
    "acs=accuracy_score(y_test,predictions)\n",
    "rs=recall_score(y_test,predictions, average='macro') \n",
    "ps=precision_score(y_test,predictions, average='macro') \n",
    "print(\"accuracy score : \",acs)\n",
    "print(\"precision score : \",rs)\n",
    "print(\"recall score : \",ps)\n",
    "#print(\"Accuracy : %s\" % \"{0:.3%}\".format(acs))\n",
    "print(classification_report(y_test, predictions))"
   ]
  },
  {
   "cell_type": "markdown",
   "metadata": {},
   "source": [
    "  "
   ]
  },
  {
   "cell_type": "markdown",
   "metadata": {},
   "source": [
    "FEATURE ENGINEERING"
   ]
  },
  {
   "cell_type": "code",
   "execution_count": 63,
   "metadata": {},
   "outputs": [
    {
     "data": {
      "text/html": [
       "<div>\n",
       "<style scoped>\n",
       "    .dataframe tbody tr th:only-of-type {\n",
       "        vertical-align: middle;\n",
       "    }\n",
       "\n",
       "    .dataframe tbody tr th {\n",
       "        vertical-align: top;\n",
       "    }\n",
       "\n",
       "    .dataframe thead th {\n",
       "        text-align: right;\n",
       "    }\n",
       "</style>\n",
       "<table border=\"1\" class=\"dataframe\">\n",
       "  <thead>\n",
       "    <tr style=\"text-align: right;\">\n",
       "      <th></th>\n",
       "      <th>BAD</th>\n",
       "      <th>LOAN</th>\n",
       "      <th>MORTDUE</th>\n",
       "      <th>VALUE</th>\n",
       "      <th>REASON</th>\n",
       "      <th>JOB</th>\n",
       "      <th>YOJ</th>\n",
       "      <th>DEROG</th>\n",
       "      <th>DELINQ</th>\n",
       "      <th>CLAGE</th>\n",
       "      <th>NINQ</th>\n",
       "      <th>CLNO</th>\n",
       "      <th>DEBTINC</th>\n",
       "    </tr>\n",
       "  </thead>\n",
       "  <tbody>\n",
       "    <tr>\n",
       "      <td>BAD</td>\n",
       "      <td>1.000000</td>\n",
       "      <td>-0.075099</td>\n",
       "      <td>-0.032027</td>\n",
       "      <td>-0.005728</td>\n",
       "      <td>0.037517</td>\n",
       "      <td>0.021476</td>\n",
       "      <td>-0.057135</td>\n",
       "      <td>0.263624</td>\n",
       "      <td>0.341992</td>\n",
       "      <td>-0.178272</td>\n",
       "      <td>0.168451</td>\n",
       "      <td>-0.004123</td>\n",
       "      <td>0.157297</td>\n",
       "    </tr>\n",
       "    <tr>\n",
       "      <td>LOAN</td>\n",
       "      <td>-0.075099</td>\n",
       "      <td>1.000000</td>\n",
       "      <td>0.225429</td>\n",
       "      <td>0.328475</td>\n",
       "      <td>-0.151477</td>\n",
       "      <td>0.073062</td>\n",
       "      <td>0.099667</td>\n",
       "      <td>0.007879</td>\n",
       "      <td>-0.027179</td>\n",
       "      <td>0.107870</td>\n",
       "      <td>0.048017</td>\n",
       "      <td>0.072297</td>\n",
       "      <td>0.071395</td>\n",
       "    </tr>\n",
       "    <tr>\n",
       "      <td>MORTDUE</td>\n",
       "      <td>-0.032027</td>\n",
       "      <td>0.225429</td>\n",
       "      <td>1.000000</td>\n",
       "      <td>0.880051</td>\n",
       "      <td>-0.048564</td>\n",
       "      <td>0.190568</td>\n",
       "      <td>-0.065977</td>\n",
       "      <td>-0.042279</td>\n",
       "      <td>0.002194</td>\n",
       "      <td>0.122465</td>\n",
       "      <td>0.029189</td>\n",
       "      <td>0.353584</td>\n",
       "      <td>0.168274</td>\n",
       "    </tr>\n",
       "    <tr>\n",
       "      <td>VALUE</td>\n",
       "      <td>-0.005728</td>\n",
       "      <td>0.328475</td>\n",
       "      <td>0.880051</td>\n",
       "      <td>1.000000</td>\n",
       "      <td>-0.004000</td>\n",
       "      <td>0.175476</td>\n",
       "      <td>0.002498</td>\n",
       "      <td>-0.035389</td>\n",
       "      <td>0.011277</td>\n",
       "      <td>0.167731</td>\n",
       "      <td>-0.008492</td>\n",
       "      <td>0.265914</td>\n",
       "      <td>0.107499</td>\n",
       "    </tr>\n",
       "    <tr>\n",
       "      <td>REASON</td>\n",
       "      <td>0.037517</td>\n",
       "      <td>-0.151477</td>\n",
       "      <td>-0.048564</td>\n",
       "      <td>-0.004000</td>\n",
       "      <td>1.000000</td>\n",
       "      <td>0.005961</td>\n",
       "      <td>0.046024</td>\n",
       "      <td>-0.009289</td>\n",
       "      <td>0.002847</td>\n",
       "      <td>0.041410</td>\n",
       "      <td>-0.116745</td>\n",
       "      <td>-0.107116</td>\n",
       "      <td>-0.036965</td>\n",
       "    </tr>\n",
       "    <tr>\n",
       "      <td>JOB</td>\n",
       "      <td>0.021476</td>\n",
       "      <td>0.073062</td>\n",
       "      <td>0.190568</td>\n",
       "      <td>0.175476</td>\n",
       "      <td>0.005961</td>\n",
       "      <td>1.000000</td>\n",
       "      <td>-0.046884</td>\n",
       "      <td>0.003754</td>\n",
       "      <td>0.044507</td>\n",
       "      <td>0.047527</td>\n",
       "      <td>-0.012904</td>\n",
       "      <td>0.139182</td>\n",
       "      <td>0.081099</td>\n",
       "    </tr>\n",
       "    <tr>\n",
       "      <td>YOJ</td>\n",
       "      <td>-0.057135</td>\n",
       "      <td>0.099667</td>\n",
       "      <td>-0.065977</td>\n",
       "      <td>0.002498</td>\n",
       "      <td>0.046024</td>\n",
       "      <td>-0.046884</td>\n",
       "      <td>1.000000</td>\n",
       "      <td>-0.057777</td>\n",
       "      <td>0.040036</td>\n",
       "      <td>0.202505</td>\n",
       "      <td>-0.068264</td>\n",
       "      <td>0.026288</td>\n",
       "      <td>-0.048877</td>\n",
       "    </tr>\n",
       "    <tr>\n",
       "      <td>DEROG</td>\n",
       "      <td>0.263624</td>\n",
       "      <td>0.007879</td>\n",
       "      <td>-0.042279</td>\n",
       "      <td>-0.035389</td>\n",
       "      <td>-0.009289</td>\n",
       "      <td>0.003754</td>\n",
       "      <td>-0.057777</td>\n",
       "      <td>1.000000</td>\n",
       "      <td>0.203814</td>\n",
       "      <td>-0.064127</td>\n",
       "      <td>0.194791</td>\n",
       "      <td>0.063914</td>\n",
       "      <td>0.041050</td>\n",
       "    </tr>\n",
       "    <tr>\n",
       "      <td>DELINQ</td>\n",
       "      <td>0.341992</td>\n",
       "      <td>-0.027179</td>\n",
       "      <td>0.002194</td>\n",
       "      <td>0.011277</td>\n",
       "      <td>0.002847</td>\n",
       "      <td>0.044507</td>\n",
       "      <td>0.040036</td>\n",
       "      <td>0.203814</td>\n",
       "      <td>1.000000</td>\n",
       "      <td>0.031572</td>\n",
       "      <td>0.068719</td>\n",
       "      <td>0.154926</td>\n",
       "      <td>0.047625</td>\n",
       "    </tr>\n",
       "    <tr>\n",
       "      <td>CLAGE</td>\n",
       "      <td>-0.178272</td>\n",
       "      <td>0.107870</td>\n",
       "      <td>0.122465</td>\n",
       "      <td>0.167731</td>\n",
       "      <td>0.041410</td>\n",
       "      <td>0.047527</td>\n",
       "      <td>0.202505</td>\n",
       "      <td>-0.064127</td>\n",
       "      <td>0.031572</td>\n",
       "      <td>1.000000</td>\n",
       "      <td>-0.094895</td>\n",
       "      <td>0.258531</td>\n",
       "      <td>-0.005527</td>\n",
       "    </tr>\n",
       "    <tr>\n",
       "      <td>NINQ</td>\n",
       "      <td>0.168451</td>\n",
       "      <td>0.048017</td>\n",
       "      <td>0.029189</td>\n",
       "      <td>-0.008492</td>\n",
       "      <td>-0.116745</td>\n",
       "      <td>-0.012904</td>\n",
       "      <td>-0.068264</td>\n",
       "      <td>0.194791</td>\n",
       "      <td>0.068719</td>\n",
       "      <td>-0.094895</td>\n",
       "      <td>1.000000</td>\n",
       "      <td>0.084568</td>\n",
       "      <td>0.155115</td>\n",
       "    </tr>\n",
       "    <tr>\n",
       "      <td>CLNO</td>\n",
       "      <td>-0.004123</td>\n",
       "      <td>0.072297</td>\n",
       "      <td>0.353584</td>\n",
       "      <td>0.265914</td>\n",
       "      <td>-0.107116</td>\n",
       "      <td>0.139182</td>\n",
       "      <td>0.026288</td>\n",
       "      <td>0.063914</td>\n",
       "      <td>0.154926</td>\n",
       "      <td>0.258531</td>\n",
       "      <td>0.084568</td>\n",
       "      <td>1.000000</td>\n",
       "      <td>0.167672</td>\n",
       "    </tr>\n",
       "    <tr>\n",
       "      <td>DEBTINC</td>\n",
       "      <td>0.157297</td>\n",
       "      <td>0.071395</td>\n",
       "      <td>0.168274</td>\n",
       "      <td>0.107499</td>\n",
       "      <td>-0.036965</td>\n",
       "      <td>0.081099</td>\n",
       "      <td>-0.048877</td>\n",
       "      <td>0.041050</td>\n",
       "      <td>0.047625</td>\n",
       "      <td>-0.005527</td>\n",
       "      <td>0.155115</td>\n",
       "      <td>0.167672</td>\n",
       "      <td>1.000000</td>\n",
       "    </tr>\n",
       "  </tbody>\n",
       "</table>\n",
       "</div>"
      ],
      "text/plain": [
       "              BAD      LOAN   MORTDUE     VALUE    REASON       JOB       YOJ  \\\n",
       "BAD      1.000000 -0.075099 -0.032027 -0.005728  0.037517  0.021476 -0.057135   \n",
       "LOAN    -0.075099  1.000000  0.225429  0.328475 -0.151477  0.073062  0.099667   \n",
       "MORTDUE -0.032027  0.225429  1.000000  0.880051 -0.048564  0.190568 -0.065977   \n",
       "VALUE   -0.005728  0.328475  0.880051  1.000000 -0.004000  0.175476  0.002498   \n",
       "REASON   0.037517 -0.151477 -0.048564 -0.004000  1.000000  0.005961  0.046024   \n",
       "JOB      0.021476  0.073062  0.190568  0.175476  0.005961  1.000000 -0.046884   \n",
       "YOJ     -0.057135  0.099667 -0.065977  0.002498  0.046024 -0.046884  1.000000   \n",
       "DEROG    0.263624  0.007879 -0.042279 -0.035389 -0.009289  0.003754 -0.057777   \n",
       "DELINQ   0.341992 -0.027179  0.002194  0.011277  0.002847  0.044507  0.040036   \n",
       "CLAGE   -0.178272  0.107870  0.122465  0.167731  0.041410  0.047527  0.202505   \n",
       "NINQ     0.168451  0.048017  0.029189 -0.008492 -0.116745 -0.012904 -0.068264   \n",
       "CLNO    -0.004123  0.072297  0.353584  0.265914 -0.107116  0.139182  0.026288   \n",
       "DEBTINC  0.157297  0.071395  0.168274  0.107499 -0.036965  0.081099 -0.048877   \n",
       "\n",
       "            DEROG    DELINQ     CLAGE      NINQ      CLNO   DEBTINC  \n",
       "BAD      0.263624  0.341992 -0.178272  0.168451 -0.004123  0.157297  \n",
       "LOAN     0.007879 -0.027179  0.107870  0.048017  0.072297  0.071395  \n",
       "MORTDUE -0.042279  0.002194  0.122465  0.029189  0.353584  0.168274  \n",
       "VALUE   -0.035389  0.011277  0.167731 -0.008492  0.265914  0.107499  \n",
       "REASON  -0.009289  0.002847  0.041410 -0.116745 -0.107116 -0.036965  \n",
       "JOB      0.003754  0.044507  0.047527 -0.012904  0.139182  0.081099  \n",
       "YOJ     -0.057777  0.040036  0.202505 -0.068264  0.026288 -0.048877  \n",
       "DEROG    1.000000  0.203814 -0.064127  0.194791  0.063914  0.041050  \n",
       "DELINQ   0.203814  1.000000  0.031572  0.068719  0.154926  0.047625  \n",
       "CLAGE   -0.064127  0.031572  1.000000 -0.094895  0.258531 -0.005527  \n",
       "NINQ     0.194791  0.068719 -0.094895  1.000000  0.084568  0.155115  \n",
       "CLNO     0.063914  0.154926  0.258531  0.084568  1.000000  0.167672  \n",
       "DEBTINC  0.041050  0.047625 -0.005527  0.155115  0.167672  1.000000  "
      ]
     },
     "execution_count": 63,
     "metadata": {},
     "output_type": "execute_result"
    }
   ],
   "source": [
    "df.corr(method='pearson')"
   ]
  },
  {
   "cell_type": "code",
   "execution_count": 51,
   "metadata": {},
   "outputs": [],
   "source": [
    "df2 = df.drop(['LOAN','MORTDUE','YOJ','VALUE','CLAGE','CLNO'], axis=1)"
   ]
  },
  {
   "cell_type": "code",
   "execution_count": 52,
   "metadata": {},
   "outputs": [
    {
     "data": {
      "text/html": [
       "<div>\n",
       "<style scoped>\n",
       "    .dataframe tbody tr th:only-of-type {\n",
       "        vertical-align: middle;\n",
       "    }\n",
       "\n",
       "    .dataframe tbody tr th {\n",
       "        vertical-align: top;\n",
       "    }\n",
       "\n",
       "    .dataframe thead th {\n",
       "        text-align: right;\n",
       "    }\n",
       "</style>\n",
       "<table border=\"1\" class=\"dataframe\">\n",
       "  <thead>\n",
       "    <tr style=\"text-align: right;\">\n",
       "      <th></th>\n",
       "      <th>BAD</th>\n",
       "      <th>REASON</th>\n",
       "      <th>JOB</th>\n",
       "      <th>DEROG</th>\n",
       "      <th>DELINQ</th>\n",
       "      <th>NINQ</th>\n",
       "      <th>DEBTINC</th>\n",
       "    </tr>\n",
       "  </thead>\n",
       "  <tbody>\n",
       "    <tr>\n",
       "      <td>0</td>\n",
       "      <td>1</td>\n",
       "      <td>1</td>\n",
       "      <td>0</td>\n",
       "      <td>0.000000</td>\n",
       "      <td>0.00000</td>\n",
       "      <td>1.000000</td>\n",
       "      <td>34.514546</td>\n",
       "    </tr>\n",
       "    <tr>\n",
       "      <td>1</td>\n",
       "      <td>1</td>\n",
       "      <td>1</td>\n",
       "      <td>0</td>\n",
       "      <td>0.000000</td>\n",
       "      <td>2.00000</td>\n",
       "      <td>0.000000</td>\n",
       "      <td>32.726318</td>\n",
       "    </tr>\n",
       "    <tr>\n",
       "      <td>2</td>\n",
       "      <td>1</td>\n",
       "      <td>1</td>\n",
       "      <td>0</td>\n",
       "      <td>0.000000</td>\n",
       "      <td>0.00000</td>\n",
       "      <td>1.000000</td>\n",
       "      <td>34.514546</td>\n",
       "    </tr>\n",
       "    <tr>\n",
       "      <td>3</td>\n",
       "      <td>1</td>\n",
       "      <td>0</td>\n",
       "      <td>0</td>\n",
       "      <td>0.008661</td>\n",
       "      <td>0.26888</td>\n",
       "      <td>1.192982</td>\n",
       "      <td>33.949097</td>\n",
       "    </tr>\n",
       "    <tr>\n",
       "      <td>4</td>\n",
       "      <td>0</td>\n",
       "      <td>1</td>\n",
       "      <td>2</td>\n",
       "      <td>0.000000</td>\n",
       "      <td>0.00000</td>\n",
       "      <td>0.000000</td>\n",
       "      <td>32.726318</td>\n",
       "    </tr>\n",
       "    <tr>\n",
       "      <td>...</td>\n",
       "      <td>...</td>\n",
       "      <td>...</td>\n",
       "      <td>...</td>\n",
       "      <td>...</td>\n",
       "      <td>...</td>\n",
       "      <td>...</td>\n",
       "      <td>...</td>\n",
       "    </tr>\n",
       "    <tr>\n",
       "      <td>5955</td>\n",
       "      <td>0</td>\n",
       "      <td>0</td>\n",
       "      <td>0</td>\n",
       "      <td>0.000000</td>\n",
       "      <td>0.00000</td>\n",
       "      <td>0.000000</td>\n",
       "      <td>36.112347</td>\n",
       "    </tr>\n",
       "    <tr>\n",
       "      <td>5956</td>\n",
       "      <td>0</td>\n",
       "      <td>0</td>\n",
       "      <td>0</td>\n",
       "      <td>0.000000</td>\n",
       "      <td>0.00000</td>\n",
       "      <td>0.000000</td>\n",
       "      <td>35.859971</td>\n",
       "    </tr>\n",
       "    <tr>\n",
       "      <td>5957</td>\n",
       "      <td>0</td>\n",
       "      <td>0</td>\n",
       "      <td>0</td>\n",
       "      <td>0.000000</td>\n",
       "      <td>0.00000</td>\n",
       "      <td>0.000000</td>\n",
       "      <td>35.556590</td>\n",
       "    </tr>\n",
       "    <tr>\n",
       "      <td>5958</td>\n",
       "      <td>0</td>\n",
       "      <td>0</td>\n",
       "      <td>0</td>\n",
       "      <td>0.000000</td>\n",
       "      <td>0.00000</td>\n",
       "      <td>0.000000</td>\n",
       "      <td>34.340882</td>\n",
       "    </tr>\n",
       "    <tr>\n",
       "      <td>5959</td>\n",
       "      <td>0</td>\n",
       "      <td>0</td>\n",
       "      <td>0</td>\n",
       "      <td>0.000000</td>\n",
       "      <td>0.00000</td>\n",
       "      <td>0.000000</td>\n",
       "      <td>34.571519</td>\n",
       "    </tr>\n",
       "  </tbody>\n",
       "</table>\n",
       "<p>5960 rows × 7 columns</p>\n",
       "</div>"
      ],
      "text/plain": [
       "      BAD  REASON  JOB     DEROG   DELINQ      NINQ    DEBTINC\n",
       "0       1       1    0  0.000000  0.00000  1.000000  34.514546\n",
       "1       1       1    0  0.000000  2.00000  0.000000  32.726318\n",
       "2       1       1    0  0.000000  0.00000  1.000000  34.514546\n",
       "3       1       0    0  0.008661  0.26888  1.192982  33.949097\n",
       "4       0       1    2  0.000000  0.00000  0.000000  32.726318\n",
       "...   ...     ...  ...       ...      ...       ...        ...\n",
       "5955    0       0    0  0.000000  0.00000  0.000000  36.112347\n",
       "5956    0       0    0  0.000000  0.00000  0.000000  35.859971\n",
       "5957    0       0    0  0.000000  0.00000  0.000000  35.556590\n",
       "5958    0       0    0  0.000000  0.00000  0.000000  34.340882\n",
       "5959    0       0    0  0.000000  0.00000  0.000000  34.571519\n",
       "\n",
       "[5960 rows x 7 columns]"
      ]
     },
     "execution_count": 52,
     "metadata": {},
     "output_type": "execute_result"
    }
   ],
   "source": [
    "df2"
   ]
  },
  {
   "cell_type": "code",
   "execution_count": 66,
   "metadata": {},
   "outputs": [
    {
     "data": {
      "text/html": [
       "<div>\n",
       "<style scoped>\n",
       "    .dataframe tbody tr th:only-of-type {\n",
       "        vertical-align: middle;\n",
       "    }\n",
       "\n",
       "    .dataframe tbody tr th {\n",
       "        vertical-align: top;\n",
       "    }\n",
       "\n",
       "    .dataframe thead th {\n",
       "        text-align: right;\n",
       "    }\n",
       "</style>\n",
       "<table border=\"1\" class=\"dataframe\">\n",
       "  <thead>\n",
       "    <tr style=\"text-align: right;\">\n",
       "      <th></th>\n",
       "      <th>BAD</th>\n",
       "      <th>REASON</th>\n",
       "      <th>JOB</th>\n",
       "      <th>DEROG</th>\n",
       "      <th>DELINQ</th>\n",
       "      <th>NINQ</th>\n",
       "      <th>DEBTINC</th>\n",
       "    </tr>\n",
       "  </thead>\n",
       "  <tbody>\n",
       "    <tr>\n",
       "      <td>BAD</td>\n",
       "      <td>1.000000</td>\n",
       "      <td>0.037517</td>\n",
       "      <td>0.021476</td>\n",
       "      <td>0.263624</td>\n",
       "      <td>0.341992</td>\n",
       "      <td>0.168451</td>\n",
       "      <td>0.157297</td>\n",
       "    </tr>\n",
       "    <tr>\n",
       "      <td>REASON</td>\n",
       "      <td>0.037517</td>\n",
       "      <td>1.000000</td>\n",
       "      <td>0.005961</td>\n",
       "      <td>-0.009289</td>\n",
       "      <td>0.002847</td>\n",
       "      <td>-0.116745</td>\n",
       "      <td>-0.036965</td>\n",
       "    </tr>\n",
       "    <tr>\n",
       "      <td>JOB</td>\n",
       "      <td>0.021476</td>\n",
       "      <td>0.005961</td>\n",
       "      <td>1.000000</td>\n",
       "      <td>0.003754</td>\n",
       "      <td>0.044507</td>\n",
       "      <td>-0.012904</td>\n",
       "      <td>0.081099</td>\n",
       "    </tr>\n",
       "    <tr>\n",
       "      <td>DEROG</td>\n",
       "      <td>0.263624</td>\n",
       "      <td>-0.009289</td>\n",
       "      <td>0.003754</td>\n",
       "      <td>1.000000</td>\n",
       "      <td>0.203814</td>\n",
       "      <td>0.194791</td>\n",
       "      <td>0.041050</td>\n",
       "    </tr>\n",
       "    <tr>\n",
       "      <td>DELINQ</td>\n",
       "      <td>0.341992</td>\n",
       "      <td>0.002847</td>\n",
       "      <td>0.044507</td>\n",
       "      <td>0.203814</td>\n",
       "      <td>1.000000</td>\n",
       "      <td>0.068719</td>\n",
       "      <td>0.047625</td>\n",
       "    </tr>\n",
       "    <tr>\n",
       "      <td>NINQ</td>\n",
       "      <td>0.168451</td>\n",
       "      <td>-0.116745</td>\n",
       "      <td>-0.012904</td>\n",
       "      <td>0.194791</td>\n",
       "      <td>0.068719</td>\n",
       "      <td>1.000000</td>\n",
       "      <td>0.155115</td>\n",
       "    </tr>\n",
       "    <tr>\n",
       "      <td>DEBTINC</td>\n",
       "      <td>0.157297</td>\n",
       "      <td>-0.036965</td>\n",
       "      <td>0.081099</td>\n",
       "      <td>0.041050</td>\n",
       "      <td>0.047625</td>\n",
       "      <td>0.155115</td>\n",
       "      <td>1.000000</td>\n",
       "    </tr>\n",
       "  </tbody>\n",
       "</table>\n",
       "</div>"
      ],
      "text/plain": [
       "              BAD    REASON       JOB     DEROG    DELINQ      NINQ   DEBTINC\n",
       "BAD      1.000000  0.037517  0.021476  0.263624  0.341992  0.168451  0.157297\n",
       "REASON   0.037517  1.000000  0.005961 -0.009289  0.002847 -0.116745 -0.036965\n",
       "JOB      0.021476  0.005961  1.000000  0.003754  0.044507 -0.012904  0.081099\n",
       "DEROG    0.263624 -0.009289  0.003754  1.000000  0.203814  0.194791  0.041050\n",
       "DELINQ   0.341992  0.002847  0.044507  0.203814  1.000000  0.068719  0.047625\n",
       "NINQ     0.168451 -0.116745 -0.012904  0.194791  0.068719  1.000000  0.155115\n",
       "DEBTINC  0.157297 -0.036965  0.081099  0.041050  0.047625  0.155115  1.000000"
      ]
     },
     "execution_count": 66,
     "metadata": {},
     "output_type": "execute_result"
    }
   ],
   "source": [
    "df2.corr(method='pearson')"
   ]
  },
  {
   "cell_type": "code",
   "execution_count": 67,
   "metadata": {},
   "outputs": [],
   "source": [
    "#AGAIN SPLITTING THE DATA AFTER FEATURE ENGINEERING\n",
    "\n",
    "from sklearn.model_selection import train_test_split\n",
    "X = df2.drop('BAD', axis=1)\n",
    "y = df2['BAD']\n",
    "X_train, X_test, y_train, y_test = train_test_split(X,y,test_size=0.3,random_state = 101)"
   ]
  },
  {
   "cell_type": "code",
   "execution_count": 68,
   "metadata": {},
   "outputs": [],
   "source": [
    "#AGAIN APPLYING THE MODEL AFTER FEATURE ENGINEERING\n",
    "\n",
    "from sklearn.ensemble import RandomForestClassifier\n",
    "from sklearn.model_selection import GridSearchCV\n",
    "model = RandomForestClassifier(n_jobs=-1)\n",
    "param = {'n_estimators':range(30,100,10), 'max_depth':range(10,50,5), 'criterion':['gini','entropy']}\n",
    "grid = GridSearchCV(model, param, cv=3)\n",
    "grid.fit(X_train, y_train)\n",
    "grid.best_params_\n",
    "predictions = grid.predict(X_test)"
   ]
  },
  {
   "cell_type": "code",
   "execution_count": 69,
   "metadata": {},
   "outputs": [
    {
     "data": {
      "text/plain": [
       "{'criterion': 'gini', 'max_depth': 15, 'n_estimators': 30}"
      ]
     },
     "execution_count": 69,
     "metadata": {},
     "output_type": "execute_result"
    }
   ],
   "source": [
    "grid.best_params_"
   ]
  },
  {
   "cell_type": "code",
   "execution_count": 70,
   "metadata": {},
   "outputs": [
    {
     "name": "stdout",
     "output_type": "stream",
     "text": [
      "accuracy score :  0.8713646532438478\n",
      "precision score :  0.7750810048412304\n",
      "recall score :  0.8133989993746091\n",
      "              precision    recall  f1-score   support\n",
      "\n",
      "           0       0.90      0.94      0.92      1418\n",
      "           1       0.72      0.61      0.66       370\n",
      "\n",
      "    accuracy                           0.87      1788\n",
      "   macro avg       0.81      0.78      0.79      1788\n",
      "weighted avg       0.87      0.87      0.87      1788\n",
      "\n"
     ]
    }
   ],
   "source": [
    "from sklearn.metrics import accuracy_score, confusion_matrix, recall_score, precision_score, classification_report\n",
    "acs=accuracy_score(y_test,predictions)\n",
    "rs=recall_score(y_test,predictions, average='macro') \n",
    "ps=precision_score(y_test,predictions, average='macro') \n",
    "print(\"accuracy score : \",acs)\n",
    "print(\"precision score : \",rs)\n",
    "print(\"recall score : \",ps)\n",
    "#print(\"Accuracy : %s\" % \"{0:.3%}\".format(acs))\n",
    "print(classification_report(y_test, predictions))"
   ]
  },
  {
   "cell_type": "markdown",
   "metadata": {},
   "source": [
    " "
   ]
  },
  {
   "cell_type": "markdown",
   "metadata": {},
   "source": [
    "RUNNING MODEL ON THE DATA MADE BY DROPPING ALL OF THE MISSING DATA IN THE ORIGINAL DATA"
   ]
  },
  {
   "cell_type": "code",
   "execution_count": 104,
   "metadata": {},
   "outputs": [],
   "source": [
    "df3 = pd.read_csv('..\\Downloads\\hmeq.csv')"
   ]
  },
  {
   "cell_type": "code",
   "execution_count": 105,
   "metadata": {},
   "outputs": [],
   "source": [
    "df3 = df3.dropna()"
   ]
  },
  {
   "cell_type": "code",
   "execution_count": 106,
   "metadata": {},
   "outputs": [],
   "source": [
    "required_columns=['LOAN','MORTDUE','VALUE','YOJ','DEROG','DELINQ','CLAGE','NINQ','CLNO','DEBTINC']"
   ]
  },
  {
   "cell_type": "code",
   "execution_count": 107,
   "metadata": {},
   "outputs": [
    {
     "data": {
      "text/plain": [
       "['LOAN',\n",
       " 'MORTDUE',\n",
       " 'VALUE',\n",
       " 'YOJ',\n",
       " 'DEROG',\n",
       " 'DELINQ',\n",
       " 'CLAGE',\n",
       " 'NINQ',\n",
       " 'CLNO',\n",
       " 'DEBTINC']"
      ]
     },
     "execution_count": 107,
     "metadata": {},
     "output_type": "execute_result"
    }
   ],
   "source": [
    "required_columns"
   ]
  },
  {
   "cell_type": "code",
   "execution_count": 108,
   "metadata": {},
   "outputs": [
    {
     "data": {
      "text/html": [
       "<div>\n",
       "<style scoped>\n",
       "    .dataframe tbody tr th:only-of-type {\n",
       "        vertical-align: middle;\n",
       "    }\n",
       "\n",
       "    .dataframe tbody tr th {\n",
       "        vertical-align: top;\n",
       "    }\n",
       "\n",
       "    .dataframe thead th {\n",
       "        text-align: right;\n",
       "    }\n",
       "</style>\n",
       "<table border=\"1\" class=\"dataframe\">\n",
       "  <thead>\n",
       "    <tr style=\"text-align: right;\">\n",
       "      <th></th>\n",
       "      <th>BAD</th>\n",
       "      <th>LOAN</th>\n",
       "      <th>MORTDUE</th>\n",
       "      <th>VALUE</th>\n",
       "      <th>REASON</th>\n",
       "      <th>JOB</th>\n",
       "      <th>YOJ</th>\n",
       "      <th>DEROG</th>\n",
       "      <th>DELINQ</th>\n",
       "      <th>CLAGE</th>\n",
       "      <th>NINQ</th>\n",
       "      <th>CLNO</th>\n",
       "      <th>DEBTINC</th>\n",
       "    </tr>\n",
       "  </thead>\n",
       "  <tbody>\n",
       "    <tr>\n",
       "      <td>5</td>\n",
       "      <td>1</td>\n",
       "      <td>1700</td>\n",
       "      <td>30548.0</td>\n",
       "      <td>40320.0</td>\n",
       "      <td>HomeImp</td>\n",
       "      <td>Other</td>\n",
       "      <td>9.0</td>\n",
       "      <td>0.0</td>\n",
       "      <td>0.0</td>\n",
       "      <td>101.466002</td>\n",
       "      <td>1.0</td>\n",
       "      <td>8.0</td>\n",
       "      <td>37.113614</td>\n",
       "    </tr>\n",
       "    <tr>\n",
       "      <td>7</td>\n",
       "      <td>1</td>\n",
       "      <td>1800</td>\n",
       "      <td>28502.0</td>\n",
       "      <td>43034.0</td>\n",
       "      <td>HomeImp</td>\n",
       "      <td>Other</td>\n",
       "      <td>11.0</td>\n",
       "      <td>0.0</td>\n",
       "      <td>0.0</td>\n",
       "      <td>88.766030</td>\n",
       "      <td>0.0</td>\n",
       "      <td>8.0</td>\n",
       "      <td>36.884894</td>\n",
       "    </tr>\n",
       "    <tr>\n",
       "      <td>19</td>\n",
       "      <td>0</td>\n",
       "      <td>2300</td>\n",
       "      <td>102370.0</td>\n",
       "      <td>120953.0</td>\n",
       "      <td>HomeImp</td>\n",
       "      <td>Office</td>\n",
       "      <td>2.0</td>\n",
       "      <td>0.0</td>\n",
       "      <td>0.0</td>\n",
       "      <td>90.992533</td>\n",
       "      <td>0.0</td>\n",
       "      <td>13.0</td>\n",
       "      <td>31.588503</td>\n",
       "    </tr>\n",
       "    <tr>\n",
       "      <td>25</td>\n",
       "      <td>1</td>\n",
       "      <td>2400</td>\n",
       "      <td>34863.0</td>\n",
       "      <td>47471.0</td>\n",
       "      <td>HomeImp</td>\n",
       "      <td>Mgr</td>\n",
       "      <td>12.0</td>\n",
       "      <td>0.0</td>\n",
       "      <td>0.0</td>\n",
       "      <td>70.491080</td>\n",
       "      <td>1.0</td>\n",
       "      <td>21.0</td>\n",
       "      <td>38.263601</td>\n",
       "    </tr>\n",
       "    <tr>\n",
       "      <td>26</td>\n",
       "      <td>0</td>\n",
       "      <td>2400</td>\n",
       "      <td>98449.0</td>\n",
       "      <td>117195.0</td>\n",
       "      <td>HomeImp</td>\n",
       "      <td>Office</td>\n",
       "      <td>4.0</td>\n",
       "      <td>0.0</td>\n",
       "      <td>0.0</td>\n",
       "      <td>93.811775</td>\n",
       "      <td>0.0</td>\n",
       "      <td>13.0</td>\n",
       "      <td>29.681827</td>\n",
       "    </tr>\n",
       "  </tbody>\n",
       "</table>\n",
       "</div>"
      ],
      "text/plain": [
       "    BAD  LOAN   MORTDUE     VALUE   REASON     JOB   YOJ  DEROG  DELINQ  \\\n",
       "5     1  1700   30548.0   40320.0  HomeImp   Other   9.0    0.0     0.0   \n",
       "7     1  1800   28502.0   43034.0  HomeImp   Other  11.0    0.0     0.0   \n",
       "19    0  2300  102370.0  120953.0  HomeImp  Office   2.0    0.0     0.0   \n",
       "25    1  2400   34863.0   47471.0  HomeImp     Mgr  12.0    0.0     0.0   \n",
       "26    0  2400   98449.0  117195.0  HomeImp  Office   4.0    0.0     0.0   \n",
       "\n",
       "         CLAGE  NINQ  CLNO    DEBTINC  \n",
       "5   101.466002   1.0   8.0  37.113614  \n",
       "7    88.766030   0.0   8.0  36.884894  \n",
       "19   90.992533   0.0  13.0  31.588503  \n",
       "25   70.491080   1.0  21.0  38.263601  \n",
       "26   93.811775   0.0  13.0  29.681827  "
      ]
     },
     "execution_count": 108,
     "metadata": {},
     "output_type": "execute_result"
    }
   ],
   "source": [
    "df3.head()"
   ]
  },
  {
   "cell_type": "code",
   "execution_count": 76,
   "metadata": {},
   "outputs": [],
   "source": [
    "from sklearn.model_selection import train_test_split\n",
    "X = df3[required_columns]\n",
    "y = df3['BAD']\n",
    "X_train, X_test, y_train, y_test = train_test_split(X,y,test_size=0.3,random_state = 101)"
   ]
  },
  {
   "cell_type": "code",
   "execution_count": 77,
   "metadata": {},
   "outputs": [],
   "source": [
    "from sklearn.ensemble import RandomForestClassifier\n",
    "from sklearn.model_selection import GridSearchCV\n",
    "model = RandomForestClassifier(n_jobs=-1)\n",
    "param = {'n_estimators':range(30,100,10), 'max_depth':range(10,50,5), 'criterion':['gini','entropy']}\n",
    "grid = GridSearchCV(model, param, cv=3)\n",
    "grid.fit(X_train, y_train)\n",
    "grid.best_params_\n",
    "predictions = grid.predict(X_test)"
   ]
  },
  {
   "cell_type": "code",
   "execution_count": 78,
   "metadata": {},
   "outputs": [
    {
     "name": "stdout",
     "output_type": "stream",
     "text": [
      "accuracy score :  0.9405940594059405\n",
      "precision score :  0.6968225747629467\n",
      "recall score :  0.9451030927835051\n",
      "              precision    recall  f1-score   support\n",
      "\n",
      "           0       0.94      1.00      0.97       914\n",
      "           1       0.95      0.40      0.56        96\n",
      "\n",
      "    accuracy                           0.94      1010\n",
      "   macro avg       0.95      0.70      0.76      1010\n",
      "weighted avg       0.94      0.94      0.93      1010\n",
      "\n"
     ]
    }
   ],
   "source": [
    "from sklearn.metrics import accuracy_score, confusion_matrix, recall_score, precision_score, classification_report\n",
    "acs=accuracy_score(y_test,predictions)\n",
    "rs=recall_score(y_test,predictions, average='macro') \n",
    "ps=precision_score(y_test,predictions, average='macro') \n",
    "print(\"accuracy score : \",acs)\n",
    "print(\"precision score : \",rs)\n",
    "print(\"recall score : \",ps)\n",
    "#print(\"Accuracy : %s\" % \"{0:.3%}\".format(acs))\n",
    "print(classification_report(y_test, predictions))"
   ]
  },
  {
   "cell_type": "markdown",
   "metadata": {},
   "source": [
    " "
   ]
  },
  {
   "cell_type": "markdown",
   "metadata": {},
   "source": [
    " "
   ]
  },
  {
   "cell_type": "markdown",
   "metadata": {},
   "source": [
    "MODEL - XGBClassifier"
   ]
  },
  {
   "cell_type": "code",
   "execution_count": 47,
   "metadata": {},
   "outputs": [],
   "source": [
    "from sklearn.model_selection import train_test_split\n",
    "X = df.drop('BAD', axis=1)\n",
    "y = df['BAD']\n",
    "X_train, X_test, y_train, y_test = train_test_split(X,y,test_size=0.3,random_state = 101)"
   ]
  },
  {
   "cell_type": "code",
   "execution_count": 1,
   "metadata": {},
   "outputs": [],
   "source": [
    "from xgboost import XGBClassifier"
   ]
  },
  {
   "cell_type": "code",
   "execution_count": 48,
   "metadata": {},
   "outputs": [],
   "source": [
    "model = XGBClassifier(max_depth=3, learning_rate=0.1, n_estimators=100, verbosity=1, objective='binary:logistic',\n",
    "                      booster='gbtree', n_jobs=1, gamma=0, min_child_weight=1, scale_pos_weight=1, base_score=0.5, \n",
    "                      random_state=0, seed=None, subsample=0.8,)\n",
    "model.fit(X_train, y_train)\n",
    "predictions = model.predict(X_test)"
   ]
  },
  {
   "cell_type": "code",
   "execution_count": 49,
   "metadata": {},
   "outputs": [
    {
     "name": "stdout",
     "output_type": "stream",
     "text": [
      "accuracy score :  0.8909395973154363\n",
      "precision score :  0.7794323943125072\n",
      "recall score :  0.8678537286693916\n",
      "              precision    recall  f1-score   support\n",
      "\n",
      "           0       0.90      0.97      0.93      1418\n",
      "           1       0.84      0.59      0.69       370\n",
      "\n",
      "    accuracy                           0.89      1788\n",
      "   macro avg       0.87      0.78      0.81      1788\n",
      "weighted avg       0.89      0.89      0.88      1788\n",
      "\n"
     ]
    }
   ],
   "source": [
    "from sklearn.metrics import accuracy_score, confusion_matrix, recall_score, precision_score, classification_report\n",
    "acs=accuracy_score(y_test,predictions)\n",
    "rs=recall_score(y_test,predictions, average='macro') \n",
    "ps=precision_score(y_test,predictions, average='macro') \n",
    "print(\"accuracy score : \",acs)\n",
    "print(\"precision score : \",rs)\n",
    "print(\"recall score : \",ps)\n",
    "#print(\"Accuracy : %s\" % \"{0:.3%}\".format(acs))\n",
    "print(classification_report(y_test, predictions))"
   ]
  },
  {
   "cell_type": "code",
   "execution_count": 50,
   "metadata": {},
   "outputs": [
    {
     "data": {
      "text/plain": [
       "<matplotlib.axes._subplots.AxesSubplot at 0x2c3f53cfec8>"
      ]
     },
     "execution_count": 50,
     "metadata": {},
     "output_type": "execute_result"
    },
    {
     "data": {
      "image/png": "[encoded data removed]",
      "text/plain": [
       "<Figure size 432x288 with 1 Axes>"
      ]
     },
     "metadata": {
      "needs_background": "light"
     },
     "output_type": "display_data"
    }
   ],
   "source": [
    "from xgboost import plot_importance\n",
    "plot_importance()"
   ]
  },
  {
   "cell_type": "markdown",
   "metadata": {},
   "source": [
    " FEATURE ENGINEERING BY XGBoost FEATURE IMPORTANCE PLOT"
   ]
  },
  {
   "cell_type": "code",
   "execution_count": 100,
   "metadata": {},
   "outputs": [],
   "source": [
    "df4 = df.drop(['REASON', 'JOB', 'YOJ', 'DEROG', 'LOAN', 'NINQ', 'CLNO'], axis=1)"
   ]
  },
  {
   "cell_type": "code",
   "execution_count": 101,
   "metadata": {},
   "outputs": [],
   "source": [
    "from sklearn.model_selection import train_test_split\n",
    "X = df4.drop('BAD', axis=1)\n",
    "y = df4['BAD']\n",
    "X_train, X_test, y_train, y_test = train_test_split(X,y,test_size=0.3,random_state = 101)"
   ]
  },
  {
   "cell_type": "code",
   "execution_count": 102,
   "metadata": {},
   "outputs": [],
   "source": [
    "model = XGBClassifier(gamma=0.5, learning_rate=0.2, max_depth=7, min_child_weight=3,\n",
    "                      reg_alpha=0.01, subsample=0.9)\n",
    "model.fit(X_train, y_train)\n",
    "predictions = model.predict(X_test)"
   ]
  },
  {
   "cell_type": "code",
   "execution_count": 103,
   "metadata": {},
   "outputs": [
    {
     "name": "stdout",
     "output_type": "stream",
     "text": [
      "accuracy score :  0.8831096196868009\n",
      "precision score :  0.7924732207524874\n",
      "recall score :  0.8340590011472808\n",
      "              precision    recall  f1-score   support\n",
      "\n",
      "           0       0.91      0.95      0.93      1418\n",
      "           1       0.76      0.64      0.69       370\n",
      "\n",
      "    accuracy                           0.88      1788\n",
      "   macro avg       0.83      0.79      0.81      1788\n",
      "weighted avg       0.88      0.88      0.88      1788\n",
      "\n"
     ]
    }
   ],
   "source": [
    "from sklearn.metrics import accuracy_score, confusion_matrix, recall_score, precision_score, classification_report\n",
    "acs=accuracy_score(y_test,predictions)\n",
    "rs=recall_score(y_test,predictions, average='macro') \n",
    "ps=precision_score(y_test,predictions, average='macro') \n",
    "print(\"accuracy score : \",acs)\n",
    "print(\"precision score : \",rs)\n",
    "print(\"recall score : \",ps)\n",
    "#print(\"Accuracy : %s\" % \"{0:.3%}\".format(acs))\n",
    "print(classification_report(y_test, predictions))"
   ]
  },
  {
   "cell_type": "markdown",
   "metadata": {},
   "source": [
    " "
   ]
  },
  {
   "cell_type": "markdown",
   "metadata": {},
   "source": [
    "TUNING THE MODEL PARAMETERS"
   ]
  },
  {
   "cell_type": "code",
   "execution_count": 61,
   "metadata": {},
   "outputs": [],
   "source": [
    "from sklearn.model_selection import train_test_split\n",
    "X = df.drop('BAD', axis=1)\n",
    "y = df['BAD']\n",
    "X_train, X_test, y_train, y_test = train_test_split(X,y,test_size=0.3,random_state = 101)"
   ]
  },
  {
   "cell_type": "code",
   "execution_count": 69,
   "metadata": {},
   "outputs": [],
   "source": [
    "depth = [3,5,7]\n",
    "for dp in depth:\n",
    "    model = XGBClassifier(max_depth=dp, learning_rate=0.1, n_estimators=100, verbosity=1, objective='binary:logistic',\n",
    "                      booster='gbtree', n_jobs=1, gamma=0, min_child_weight=1, scale_pos_weight=1, base_score=0.5, \n",
    "                      random_state=0, seed=None)\n",
    "model.fit(X_train, y_train)\n",
    "predictions = model.predict(X_test)"
   ]
  },
  {
   "cell_type": "code",
   "execution_count": 70,
   "metadata": {},
   "outputs": [
    {
     "name": "stdout",
     "output_type": "stream",
     "text": [
      "accuracy score :  0.8914988814317674\n",
      "precision score :  0.7997598444707048\n",
      "recall score :  0.8523118279569892\n",
      "              precision    recall  f1-score   support\n",
      "\n",
      "           0       0.91      0.96      0.93      1418\n",
      "           1       0.79      0.64      0.71       370\n",
      "\n",
      "    accuracy                           0.89      1788\n",
      "   macro avg       0.85      0.80      0.82      1788\n",
      "weighted avg       0.89      0.89      0.89      1788\n",
      "\n"
     ]
    }
   ],
   "source": [
    "from sklearn.metrics import accuracy_score, confusion_matrix, recall_score, precision_score, classification_report\n",
    "acs=accuracy_score(y_test,predictions)\n",
    "rs=recall_score(y_test,predictions, average='macro') \n",
    "ps=precision_score(y_test,predictions, average='macro') \n",
    "print(\"accuracy score : \",acs)\n",
    "print(\"precision score : \",rs)\n",
    "print(\"recall score : \",ps)\n",
    "#print(\"Accuracy : %s\" % \"{0:.3%}\".format(acs))\n",
    "print(classification_report(y_test, predictions))"
   ]
  },
  {
   "cell_type": "markdown",
   "metadata": {},
   "source": [
    " "
   ]
  },
  {
   "cell_type": "markdown",
   "metadata": {},
   "source": [
    " "
   ]
  },
  {
   "cell_type": "code",
   "execution_count": 77,
   "metadata": {},
   "outputs": [],
   "source": [
    "from sklearn.model_selection import train_test_split\n",
    "X = df.drop('BAD', axis=1)\n",
    "y = df['BAD']\n",
    "X_train, X_test, y_train, y_test = train_test_split(X,y,test_size=0.3,random_state = 101)"
   ]
  },
  {
   "cell_type": "code",
   "execution_count": null,
   "metadata": {},
   "outputs": [],
   "source": [
    "from sklearn.model_selection import GridSearchCV\n",
    "model = XGBClassifier()\n",
    "params = ({'max_depth':[3,5,7], 'min_child_weight':range(3,8,1), 'learning_rate':[0.05,0.1,0.15,0.2],\n",
    "           'gamma':[0,0.1,0.2,0.3,0.4,0.5], 'subsample':[0.6,0.7,0.8,0.9], 'reg_alpha':[.01,.1,1,100]})\n",
    "grid = GridSearchCV(model, params, cv=3)\n",
    "grid.fit(X_train,y_train)\n",
    "predictions = grid.predict(X_test)"
   ]
  },
  {
   "cell_type": "code",
   "execution_count": 88,
   "metadata": {},
   "outputs": [
    {
     "name": "stdout",
     "output_type": "stream",
     "text": [
      "{'gamma': 0.5, 'learning_rate': 0.2, 'max_depth': 7, 'min_child_weight': 3, 'reg_alpha': 0.01, 'subsample': 0.9}\n",
      "0.9158676893576222\n"
     ]
    }
   ],
   "source": [
    "print(grid.best_params_)\n",
    "print(grid.best_score_)"
   ]
  },
  {
   "cell_type": "code",
   "execution_count": 86,
   "metadata": {},
   "outputs": [
    {
     "name": "stdout",
     "output_type": "stream",
     "text": [
      "accuracy score :  0.918903803131991\n",
      "precision score :  0.844003735752678\n",
      "recall score :  0.8990250157522965\n",
      "              precision    recall  f1-score   support\n",
      "\n",
      "           0       0.93      0.97      0.95      1418\n",
      "           1       0.87      0.72      0.79       370\n",
      "\n",
      "    accuracy                           0.92      1788\n",
      "   macro avg       0.90      0.84      0.87      1788\n",
      "weighted avg       0.92      0.92      0.92      1788\n",
      "\n"
     ]
    }
   ],
   "source": [
    "from sklearn.metrics import accuracy_score, confusion_matrix, recall_score, precision_score, classification_report\n",
    "acs=accuracy_score(y_test,predictions)\n",
    "rs=recall_score(y_test,predictions, average='macro') \n",
    "ps=precision_score(y_test,predictions, average='macro') \n",
    "print(\"accuracy score : \",acs)\n",
    "print(\"precision score : \",rs)\n",
    "print(\"recall score : \",ps)\n",
    "#print(\"Accuracy : %s\" % \"{0:.3%}\".format(acs))\n",
    "print(classification_report(y_test, predictions))"
   ]
  },
  {
   "cell_type": "markdown",
   "metadata": {},
   "source": [
    " "
   ]
  },
  {
   "cell_type": "markdown",
   "metadata": {},
   "source": [
    "SCALING FEATURES"
   ]
  },
  {
   "cell_type": "code",
   "execution_count": 96,
   "metadata": {},
   "outputs": [],
   "source": [
    "from sklearn.model_selection import train_test_split\n",
    "X = df_scaled\n",
    "y = df['BAD']\n",
    "X_train, X_test, y_train, y_test = train_test_split(X,y,test_size=0.3,random_state = 101)"
   ]
  },
  {
   "cell_type": "code",
   "execution_count": 98,
   "metadata": {},
   "outputs": [],
   "source": [
    "model = XGBClassifier(gamma=0.5, learning_rate=0.2, max_depth=7, min_child_weight=3,\n",
    "                      reg_alpha=0.01, subsample=0.9)\n",
    "model.fit(X_train, y_train)\n",
    "predictions = model.predict(X_test)"
   ]
  },
  {
   "cell_type": "code",
   "execution_count": 99,
   "metadata": {},
   "outputs": [
    {
     "name": "stdout",
     "output_type": "stream",
     "text": [
      "accuracy score :  0.9194630872483222\n",
      "precision score :  0.8473525711889605\n",
      "recall score :  0.8977519752062508\n",
      "              precision    recall  f1-score   support\n",
      "\n",
      "           0       0.93      0.97      0.95      1418\n",
      "           1       0.86      0.72      0.79       370\n",
      "\n",
      "    accuracy                           0.92      1788\n",
      "   macro avg       0.90      0.85      0.87      1788\n",
      "weighted avg       0.92      0.92      0.92      1788\n",
      "\n"
     ]
    }
   ],
   "source": [
    "from sklearn.metrics import accuracy_score, confusion_matrix, recall_score, precision_score, classification_report\n",
    "acs=accuracy_score(y_test,predictions)\n",
    "rs=recall_score(y_test,predictions, average='macro') \n",
    "ps=precision_score(y_test,predictions, average='macro') \n",
    "print(\"accuracy score : \",acs)\n",
    "print(\"precision score : \",rs)\n",
    "print(\"recall score : \",ps)\n",
    "#print(\"Accuracy : %s\" % \"{0:.3%}\".format(acs))\n",
    "print(classification_report(y_test, predictions))"
   ]
  },
  {
   "cell_type": "markdown",
   "metadata": {},
   "source": [
    " "
   ]
  },
  {
   "cell_type": "markdown",
   "metadata": {},
   "source": [
    "RUNNING MODEL ON THE DATA MADE BY DROPPING ALL OF THE MISSING DATA IN THE ORIGINAL DATA"
   ]
  },
  {
   "cell_type": "code",
   "execution_count": 109,
   "metadata": {},
   "outputs": [],
   "source": [
    "from sklearn.model_selection import train_test_split\n",
    "X = df3[required_columns]\n",
    "y = df3['BAD']\n",
    "X_train, X_test, y_train, y_test = train_test_split(X,y,test_size=0.3,random_state = 101)"
   ]
  },
  {
   "cell_type": "code",
   "execution_count": 110,
   "metadata": {},
   "outputs": [],
   "source": [
    "model = XGBClassifier(gamma=0.5, learning_rate=0.2, max_depth=7, min_child_weight=3,\n",
    "                      reg_alpha=0.01, subsample=0.9)\n",
    "model.fit(X_train, y_train)\n",
    "predictions = model.predict(X_test)"
   ]
  },
  {
   "cell_type": "code",
   "execution_count": 111,
   "metadata": {},
   "outputs": [
    {
     "name": "stdout",
     "output_type": "stream",
     "text": [
      "accuracy score :  0.9425742574257425\n",
      "precision score :  0.7119005288110868\n",
      "recall score :  0.9374411820063994\n",
      "              precision    recall  f1-score   support\n",
      "\n",
      "           0       0.94      1.00      0.97       914\n",
      "           1       0.93      0.43      0.59        96\n",
      "\n",
      "    accuracy                           0.94      1010\n",
      "   macro avg       0.94      0.71      0.78      1010\n",
      "weighted avg       0.94      0.94      0.93      1010\n",
      "\n"
     ]
    }
   ],
   "source": [
    "from sklearn.metrics import accuracy_score, confusion_matrix, recall_score, precision_score, classification_report\n",
    "acs=accuracy_score(y_test,predictions)\n",
    "rs=recall_score(y_test,predictions, average='macro') \n",
    "ps=precision_score(y_test,predictions, average='macro') \n",
    "print(\"accuracy score : \",acs)\n",
    "print(\"precision score : \",rs)\n",
    "print(\"recall score : \",ps)\n",
    "#print(\"Accuracy : %s\" % \"{0:.3%}\".format(acs))\n",
    "print(classification_report(y_test, predictions))"
   ]
  },
  {
   "cell_type": "markdown",
   "metadata": {},
   "source": [
    " "
   ]
  },
  {
   "cell_type": "markdown",
   "metadata": {},
   "source": [
    " "
   ]
  }
 ],
 "metadata": {
  "kernelspec": {
   "display_name": "Python 3",
   "language": "python",
   "name": "python3"
  },
  "language_info": {
   "codemirror_mode": {
    "name": "ipython",
    "version": 3
   },
   "file_extension": ".py",
   "mimetype": "text/x-python",
   "name": "python",
   "nbconvert_exporter": "python",
   "pygments_lexer": "ipython3",
   "version": "3.7.4"
  }
 },
 "nbformat": 4,
 "nbformat_minor": 2
}
